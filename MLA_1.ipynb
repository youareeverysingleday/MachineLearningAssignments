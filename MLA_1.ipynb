{
 "cells": [
  {
   "cell_type": "markdown",
   "metadata": {},
   "source": [
    "# Machine Learning Assignment\n",
    "ML assignment 2021.10.08 - implement AdaBoost\n",
    "# 1. preprocess data"
   ]
  },
  {
   "cell_type": "code",
   "execution_count": 1,
   "metadata": {},
   "outputs": [],
   "source": [
    "# import function\n",
    "import numpy as np\n",
    "import pandas as pd\n",
    "import matplotlib.pyplot as plt\n",
    "import tensorflow as tf\n",
    "import os\n",
    "import datetime\n",
    "import time\n",
    "import math\n",
    "import random\n",
    "%matplotlib inline"
   ]
  },
  {
   "cell_type": "code",
   "execution_count": 2,
   "metadata": {},
   "outputs": [
    {
     "data": {
      "image/png": "[encoded data removed]",
      "text/plain": [
       "<Figure size 432x288 with 1 Axes>"
      ]
     },
     "metadata": {
      "needs_background": "light"
     },
     "output_type": "display_data"
    }
   ],
   "source": [
    "# 通用函数\n",
    "# 激活函数\n",
    "def sigmoid(input):\n",
    "    return (1.0/(1 + np.exp(-input)))-0.5\n",
    "\n",
    "# 测试sigmoid函数\n",
    "z = np.arange(-10, 10, 0.01)\n",
    "fz = []\n",
    "for zi in z:\n",
    "    fz.append(sigmoid(zi))\n",
    "plt.title('Sigmoid Function')\n",
    "plt.xlabel('z')\n",
    "plt.ylabel('σ(z)')\n",
    "plt.plot(z, fz)\n",
    "plt.grid()\n",
    "plt.show()"
   ]
  },
  {
   "cell_type": "code",
   "execution_count": 3,
   "metadata": {},
   "outputs": [
    {
     "data": {
      "image/png": "[encoded data removed]",
      "text/plain": [
       "<Figure size 432x288 with 1 Axes>"
      ]
     },
     "metadata": {
      "needs_background": "light"
     },
     "output_type": "display_data"
    }
   ],
   "source": [
    "def sigmoid_function(z):\n",
    "    fz = []\n",
    "    for num in z:\n",
    "        fz.append((1/(1 + math.exp(-num)))-0.5)\n",
    "    return fz\n",
    "\n",
    "z = np.arange(-10, 10, 0.01)\n",
    "fz = sigmoid_function(z)\n",
    "plt.title('Sigmoid Function')\n",
    "plt.xlabel('z')\n",
    "plt.ylabel('σ(z)')\n",
    "plt.plot(z, fz)\n",
    "plt.show()\n"
   ]
  },
  {
   "cell_type": "code",
   "execution_count": 4,
   "metadata": {},
   "outputs": [
    {
     "name": "stdout",
     "output_type": "stream",
     "text": [
      "./data/A1.csv is existed.\n",
      "   number    x    y  label\n",
      "0       1   80  144      1\n",
      "1       2   93  232      1\n",
      "2       3  136  275     -1\n",
      "3       4  147  131     -1\n",
      "4       5  159   69      1\n",
      "5       6  214   31      1\n",
      "6       7  214  152     -1\n",
      "7       8  257   83      1\n",
      "8       9  307   62     -1\n",
      "9      10  307  231     -1\n",
      "number    int64\n",
      "x         int64\n",
      "y         int64\n",
      "label     int64\n",
      "dtype: object\n",
      "   number    x    y  label\n",
      "0       1   80  144      1\n",
      "1       2   93  232      1\n",
      "2       3  136  275      0\n",
      "3       4  147  131      0\n",
      "4       5  159   69      1\n",
      "5       6  214   31      1\n",
      "6       7  214  152      0\n",
      "7       8  257   83      1\n",
      "8       9  307   62      0\n",
      "9      10  307  231      0\n"
     ]
    }
   ],
   "source": [
    "# read data\n",
    "SampleData_SavePath = \"./data/A1.csv\"\n",
    "\n",
    "SampleData_pd = pd.DataFrame()\n",
    "if not os.path.isfile(SampleData_SavePath):\n",
    "    print(SampleData_SavePath, \"is not existed.\")\n",
    "else :\n",
    "    print(SampleData_SavePath, \"is existed.\")\n",
    "    SampleData_pd = pd.read_csv(SampleData_SavePath)\n",
    "\n",
    "print(SampleData_pd)\n",
    "print(SampleData_pd.dtypes)\n",
    "\n",
    "def preprocessLabel(label):\n",
    "    if label == -1 :\n",
    "        return 0\n",
    "    else:\n",
    "        return 1\n",
    "\n",
    "SampleData_pd['label'] = SampleData_pd.apply(lambda x :preprocessLabel(x['label']), axis = 1)\n",
    "print(SampleData_pd)"
   ]
  },
  {
   "cell_type": "code",
   "execution_count": 5,
   "metadata": {},
   "outputs": [
    {
     "data": {
      "image/png": "[encoded data removed]",
      "text/plain": [
       "<Figure size 432x288 with 1 Axes>"
      ]
     },
     "metadata": {
      "needs_background": "light"
     },
     "output_type": "display_data"
    },
    {
     "data": {
      "text/plain": [
       "<Figure size 432x288 with 0 Axes>"
      ]
     },
     "metadata": {},
     "output_type": "display_data"
    }
   ],
   "source": [
    "# 将数据显示出来\n",
    "plt.title(\"AdaBoost Samples\")\n",
    "plt.xlabel('X')\n",
    "plt.ylabel('Y')\n",
    "\n",
    "for index, row in SampleData_pd.iterrows():\n",
    "    if row['label'] == 1:\n",
    "        plt.scatter(row['x'], row['y'], marker='+', color='red')\n",
    "    else:\n",
    "        plt.scatter(row['x'], row['y'], marker='_', color='blue')\n",
    "plt.show()\n",
    "plt.savefig(\"./picture/samples.jpg\")"
   ]
  },
  {
   "cell_type": "code",
   "execution_count": 19,
   "metadata": {},
   "outputs": [
    {
     "name": "stdout",
     "output_type": "stream",
     "text": [
      "   number    x    y  label\n",
      "0       1   80  144      1\n",
      "9      10  307  231      0\n",
      "2       3  136  275      0\n",
      "4       5  159   69      1\n",
      "7       8  257   83      1\n",
      "8       9  307   62      0\n",
      "6       7  214  152      0\n",
      "1       2   93  232      1\n",
      "3       4  147  131      0\n",
      "5       6  214   31      1\n"
     ]
    }
   ],
   "source": [
    "# 乱序，并将标签与数据分割出来。\n",
    "# 分割的作用是方便与后面进行错误率的计算。这样混合在一起的数据集、单纯数据集、标签集都有了。\n",
    "Samples = SampleData_pd.sample(frac=1).copy()\n",
    "\n",
    "Samples_data = Samples.iloc[:,:3].copy()\n",
    "Labels_data = Samples.iloc[:,3].copy()\n",
    "# print(Samples)\n",
    "# print(Labels)\n",
    "\n",
    "print(Samples)"
   ]
  },
  {
   "cell_type": "markdown",
   "metadata": {},
   "source": [
    "# 2. 实现adaboost\n",
    "- 步骤\n",
    "    1. 实现弱分类器\n",
    "    2. 实现样本的权重调整\n",
    "    3. 实现弱分类器的权重调整"
   ]
  },
  {
   "cell_type": "markdown",
   "metadata": {},
   "source": [
    "## 2.1. 实现弱分类器\n",
    "- 弱分类器是通过自己观察来实现弱分类器的。\n",
    "- 主要步骤是：\n",
    "    1. 建立$f(x)$，并选择$\\theta$。\n",
    "    2. 选择一个$h(x)$作为弱分类器的激活函数。\n",
    "    3. 将弱分类器的权重和弱分类器结合，实现$\\sum\\limits_{t=1}^T\\alpha_th_t(x)$。"
   ]
  },
  {
   "cell_type": "markdown",
   "metadata": {},
   "source": [
    "### 2.1.1. 实现第一个弱分类器，$f(y)=y-\\theta, \\theta=100, h(x)=\\begin{cases}0,  &\\text{if  sigmod(f(x))>=0}\\\\ 1, & \\text{if  sigmod(f(x))<0} \\\\\\end{cases}$"
   ]
  },
  {
   "cell_type": "code",
   "execution_count": 7,
   "metadata": {},
   "outputs": [
    {
     "data": {
      "image/png": "[encoded data removed]",
      "text/plain": [
       "<Figure size 432x288 with 1 Axes>"
      ]
     },
     "metadata": {
      "needs_background": "light"
     },
     "output_type": "display_data"
    },
    {
     "data": {
      "text/plain": [
       "<Figure size 432x288 with 0 Axes>"
      ]
     },
     "metadata": {},
     "output_type": "display_data"
    }
   ],
   "source": [
    "# 第一个弱分类器示意图\n",
    "plt.title(\"AdaBoost Samples\")\n",
    "plt.xlabel('X')\n",
    "plt.ylabel('Y')\n",
    "\n",
    "for index, row in SampleData_pd.iterrows():\n",
    "    if row['label'] == 1:\n",
    "        plt.scatter(row['x'], row['y'], marker='+', color='red')\n",
    "    else:\n",
    "        plt.scatter(row['x'], row['y'], marker='_', color='blue')\n",
    "plt.axhline(100)\n",
    "plt.show()\n",
    "plt.savefig(\"./picture/weak_classifier0.jpg\")"
   ]
  },
  {
   "cell_type": "code",
   "execution_count": 8,
   "metadata": {},
   "outputs": [
    {
     "name": "stdout",
     "output_type": "stream",
     "text": [
      "   number    x    y  label  wc0_label\n",
      "8       9  307   62      0          1\n",
      "3       4  147  131      0          0\n",
      "5       6  214   31      1          1\n",
      "7       8  257   83      1          1\n",
      "1       2   93  232      1          0\n",
      "9      10  307  231      0          0\n",
      "0       1   80  144      1          0\n",
      "6       7  214  152      0          0\n",
      "4       5  159   69      1          1\n",
      "2       3  136  275      0          0\n"
     ]
    }
   ],
   "source": [
    "# 由于例子中的数据比较简单，所以将f(x)和h(x)一起实现了。\n",
    "def wc0_fx_hx(input):\n",
    "    temp = sigmoid(input - 100)\n",
    "    if temp >= 0:\n",
    "        Predict_Label = 0\n",
    "    else:\n",
    "        Predict_Label = 1\n",
    "    # print(Predict_Label)\n",
    "    return Predict_Label\n",
    "\n",
    "Samples['wc0_label'] = Samples['y'].apply(lambda xx :wc0_fx_hx(xx))\n",
    "print(Samples)"
   ]
  },
  {
   "cell_type": "code",
   "execution_count": 9,
   "metadata": {},
   "outputs": [
    {
     "name": "stdout",
     "output_type": "stream",
     "text": [
      "Accuracy of the first weak classifier is :0.7\n"
     ]
    }
   ],
   "source": [
    "# 判断这个分类器的准确率，要求这个弱分类器的准去率大于0.5\n",
    "Samples['Accuracy0'] = np.where(Samples['label'] == Samples['wc0_label'], 1, 0)\n",
    "Result0 = Samples['Accuracy0'].value_counts()\n",
    "# 准确率是为判断正确的个数除以总样本数。\n",
    "Accuracy0 = Result0.loc[1]/Samples.shape[0]\n",
    "print(\"Accuracy of the first weak classifier is :\" + str(Accuracy0))"
   ]
  },
  {
   "cell_type": "markdown",
   "metadata": {},
   "source": [
    "### 2.1.2. 实现第二个弱分类器，$f(y)=x-\\theta, \\theta=120, h(x)=\\begin{cases}0,  &\\text{if  sigmod(f(x))>=0}\\\\ 1, & \\text{if  sigmod(f(x))<0} \\\\\\end{cases}$"
   ]
  },
  {
   "cell_type": "code",
   "execution_count": 10,
   "metadata": {},
   "outputs": [
    {
     "data": {
      "image/png": "[encoded data removed]",
      "text/plain": [
       "<Figure size 432x288 with 1 Axes>"
      ]
     },
     "metadata": {
      "needs_background": "light"
     },
     "output_type": "display_data"
    },
    {
     "data": {
      "text/plain": [
       "<Figure size 432x288 with 0 Axes>"
      ]
     },
     "metadata": {},
     "output_type": "display_data"
    }
   ],
   "source": [
    "# 第二个弱分类器示意图\n",
    "plt.title(\"AdaBoost Samples\")\n",
    "plt.xlabel('X')\n",
    "plt.ylabel('Y')\n",
    "\n",
    "for index, row in SampleData_pd.iterrows():\n",
    "    if row['label'] == 1:\n",
    "        plt.scatter(row['x'], row['y'], marker='+', color='red')\n",
    "    else:\n",
    "        plt.scatter(row['x'], row['y'], marker='_', color='blue')\n",
    "plt.axvline(120)\n",
    "plt.show()\n",
    "plt.savefig(\"./picture/weak_classifier1.jpg\")"
   ]
  },
  {
   "cell_type": "code",
   "execution_count": 11,
   "metadata": {},
   "outputs": [
    {
     "name": "stdout",
     "output_type": "stream",
     "text": [
      "   number    x    y  label  wc0_label  Accuracy0  wc1_label\n",
      "8       9  307   62      0          1          0          0\n",
      "3       4  147  131      0          0          1          0\n",
      "5       6  214   31      1          1          1          0\n",
      "7       8  257   83      1          1          1          0\n",
      "1       2   93  232      1          0          0          1\n",
      "9      10  307  231      0          0          1          0\n",
      "0       1   80  144      1          0          0          1\n",
      "6       7  214  152      0          0          1          0\n",
      "4       5  159   69      1          1          1          0\n",
      "2       3  136  275      0          0          1          0\n"
     ]
    }
   ],
   "source": [
    "def wc1_fx_hx(input):\n",
    "    temp = sigmoid(input - 120)\n",
    "    if temp >= 0:\n",
    "        Predict_Label = 0\n",
    "    else:\n",
    "        Predict_Label = 1\n",
    "    # print(Predict_Label)\n",
    "    return Predict_Label\n",
    "\n",
    "Samples['wc1_label'] = Samples['x'].apply(lambda xx :wc1_fx_hx(xx))\n",
    "print(Samples)"
   ]
  },
  {
   "cell_type": "code",
   "execution_count": 12,
   "metadata": {},
   "outputs": [
    {
     "name": "stdout",
     "output_type": "stream",
     "text": [
      "Accuracy of the second weak classifier is :0.7\n"
     ]
    }
   ],
   "source": [
    "# 判断这个分类器的准确率，要求这个弱分类器的准去率大于0.5\n",
    "Samples['Accuracy1'] = np.where(Samples['label'] == Samples['wc1_label'], 1, 0)\n",
    "Result1 = Samples['Accuracy1'].value_counts()\n",
    "# 准确率是为判断正确的个数除以总样本数。\n",
    "Accuracy1 = Result1.loc[1]/Samples.shape[0]\n",
    "print(\"Accuracy of the second weak classifier is :\" + str(Accuracy1))"
   ]
  },
  {
   "cell_type": "markdown",
   "metadata": {},
   "source": [
    "### 2.1.3. 实现第三个弱分类器，$f(y)=x-\\theta, \\theta=240, h(x)=\\begin{cases}0,  &\\text{if  sigmod(f(x))>=0}\\\\ 1, & \\text{if  sigmod(f(x))<0} \\\\\\end{cases}$"
   ]
  },
  {
   "cell_type": "code",
   "execution_count": 13,
   "metadata": {},
   "outputs": [
    {
     "data": {
      "image/png": "[encoded data removed]",
      "text/plain": [
       "<Figure size 432x288 with 1 Axes>"
      ]
     },
     "metadata": {
      "needs_background": "light"
     },
     "output_type": "display_data"
    },
    {
     "data": {
      "text/plain": [
       "<Figure size 432x288 with 0 Axes>"
      ]
     },
     "metadata": {},
     "output_type": "display_data"
    }
   ],
   "source": [
    "# 第三个弱分类器示意图\n",
    "plt.title(\"AdaBoost Samples\")\n",
    "plt.xlabel('X')\n",
    "plt.ylabel('Y')\n",
    "\n",
    "for index, row in SampleData_pd.iterrows():\n",
    "    if row['label'] == 1:\n",
    "        plt.scatter(row['x'], row['y'], marker='+', color='red')\n",
    "    else:\n",
    "        plt.scatter(row['x'], row['y'], marker='_', color='blue')\n",
    "plt.axvline(240)\n",
    "plt.show()\n",
    "plt.savefig(\"./picture/weak_classifier2.jpg\")"
   ]
  },
  {
   "cell_type": "code",
   "execution_count": 14,
   "metadata": {},
   "outputs": [
    {
     "name": "stdout",
     "output_type": "stream",
     "text": [
      "   number    x    y  label  wc0_label  Accuracy0  wc1_label  Accuracy1  \\\n",
      "8       9  307   62      0          1          0          0          1   \n",
      "3       4  147  131      0          0          1          0          1   \n",
      "5       6  214   31      1          1          1          0          0   \n",
      "7       8  257   83      1          1          1          0          0   \n",
      "1       2   93  232      1          0          0          1          1   \n",
      "9      10  307  231      0          0          1          0          1   \n",
      "0       1   80  144      1          0          0          1          1   \n",
      "6       7  214  152      0          0          1          0          1   \n",
      "4       5  159   69      1          1          1          0          0   \n",
      "2       3  136  275      0          0          1          0          1   \n",
      "\n",
      "   wc2_label  \n",
      "8          0  \n",
      "3          1  \n",
      "5          1  \n",
      "7          0  \n",
      "1          1  \n",
      "9          0  \n",
      "0          1  \n",
      "6          1  \n",
      "4          1  \n",
      "2          1  \n"
     ]
    }
   ],
   "source": [
    "def wc2_fx_hx(input):\n",
    "    temp = sigmoid(input - 240)\n",
    "    if temp >= 0:\n",
    "        Predict_Label = 0\n",
    "    else:\n",
    "        Predict_Label = 1\n",
    "    # print(Predict_Label)\n",
    "    return Predict_Label\n",
    "\n",
    "Samples['wc2_label'] = Samples['x'].apply(lambda xx :wc2_fx_hx(xx))\n",
    "print(Samples)"
   ]
  },
  {
   "cell_type": "code",
   "execution_count": 15,
   "metadata": {},
   "outputs": [
    {
     "name": "stdout",
     "output_type": "stream",
     "text": [
      "1    6\n",
      "0    4\n",
      "Name: Accuracy2, dtype: int64\n",
      "Accuracy of the third weak classifier is :0.6\n"
     ]
    }
   ],
   "source": [
    "# 判断这个分类器的准确率，要求这个弱分类器的准去率大于0.5\n",
    "Samples['Accuracy2'] = np.where(Samples['label'] == Samples['wc2_label'], 1, 0)\n",
    "Result2 = Samples['Accuracy2'].value_counts()\n",
    "print(Result2)\n",
    "# 准确率是为判断正确的个数除以总样本数。\n",
    "Accuracy2 = Result2.loc[1]/Samples.shape[0]\n",
    "print(\"Accuracy of the third weak classifier is :\" + str(Accuracy2))"
   ]
  },
  {
   "cell_type": "markdown",
   "metadata": {},
   "source": [
    "### 2.1.4. 实现第四个弱分类器，$f(y)=y-\\theta, \\theta=240, h(x)=\\begin{cases}0,  &\\text{if  sigmod(f(x))>=0}\\\\ 1, & \\text{if  sigmod(f(x))<0} \\\\\\end{cases}$"
   ]
  },
  {
   "cell_type": "code",
   "execution_count": 16,
   "metadata": {},
   "outputs": [
    {
     "data": {
      "image/png": "[encoded data removed]",
      "text/plain": [
       "<Figure size 432x288 with 1 Axes>"
      ]
     },
     "metadata": {
      "needs_background": "light"
     },
     "output_type": "display_data"
    },
    {
     "data": {
      "text/plain": [
       "<Figure size 432x288 with 0 Axes>"
      ]
     },
     "metadata": {},
     "output_type": "display_data"
    }
   ],
   "source": [
    "# 第四个弱分类器\n",
    "plt.title(\"AdaBoost Samples\")\n",
    "plt.xlabel('X')\n",
    "plt.ylabel('Y')\n",
    "\n",
    "for index, row in SampleData_pd.iterrows():\n",
    "    if row['label'] == 1:\n",
    "        plt.scatter(row['x'], row['y'], marker='+', color='red')\n",
    "    else:\n",
    "        plt.scatter(row['x'], row['y'], marker='_', color='blue')\n",
    "plt.axhline(200)\n",
    "plt.show()\n",
    "plt.savefig(\"./picture/weak_classifier3.jpg\")"
   ]
  },
  {
   "cell_type": "code",
   "execution_count": 17,
   "metadata": {},
   "outputs": [
    {
     "name": "stdout",
     "output_type": "stream",
     "text": [
      "   number    x    y  label  wc0_label  Accuracy0  wc1_label  Accuracy1  \\\n",
      "8       9  307   62      0          1          0          0          1   \n",
      "3       4  147  131      0          0          1          0          1   \n",
      "5       6  214   31      1          1          1          0          0   \n",
      "7       8  257   83      1          1          1          0          0   \n",
      "1       2   93  232      1          0          0          1          1   \n",
      "9      10  307  231      0          0          1          0          1   \n",
      "0       1   80  144      1          0          0          1          1   \n",
      "6       7  214  152      0          0          1          0          1   \n",
      "4       5  159   69      1          1          1          0          0   \n",
      "2       3  136  275      0          0          1          0          1   \n",
      "\n",
      "   wc2_label  Accuracy2  wc3_label  \n",
      "8          0          1          1  \n",
      "3          1          0          1  \n",
      "5          1          1          1  \n",
      "7          0          0          1  \n",
      "1          1          1          0  \n",
      "9          0          1          0  \n",
      "0          1          1          1  \n",
      "6          1          0          1  \n",
      "4          1          1          1  \n",
      "2          1          0          0  \n"
     ]
    }
   ],
   "source": [
    "def wc3_fx_hx(input):\n",
    "    temp = sigmoid(input - 200)\n",
    "    if temp >= 0:\n",
    "        Predict_Label = 0\n",
    "    else:\n",
    "        Predict_Label = 1\n",
    "    # print(Predict_Label)\n",
    "    return Predict_Label\n",
    "\n",
    "Samples['wc3_label'] = Samples['y'].apply(lambda xx :wc3_fx_hx(xx))\n",
    "print(Samples)"
   ]
  },
  {
   "cell_type": "code",
   "execution_count": 18,
   "metadata": {},
   "outputs": [
    {
     "name": "stdout",
     "output_type": "stream",
     "text": [
      "1    6\n",
      "0    4\n",
      "Name: Accuracy3, dtype: int64\n",
      "Accuracy of the third weak classifier is :0.6\n"
     ]
    }
   ],
   "source": [
    "# 判断这个分类器的准确率，要求这个弱分类器的准去率大于0.5\n",
    "Samples['Accuracy3'] = np.where(Samples['label'] == Samples['wc3_label'], 1, 0)\n",
    "Result3 = Samples['Accuracy3'].value_counts()\n",
    "print(Result3)\n",
    "# 准确率是为判断正确的个数除以总样本数。\n",
    "Accuracy3 = Result3.loc[1]/Samples.shape[0]\n",
    "print(\"Accuracy of the third weak classifier is :\" + str(Accuracy3))"
   ]
  },
  {
   "cell_type": "markdown",
   "metadata": {},
   "source": [
    "# 弱分类器是需要训练的。[训练的过程](https://www.cnblogs.com/chenpi/p/5128235.html)\n",
    "- 训练弱分类器的过程就是从已有的特征中选出一个特征以及其对应的阈值，使样本分错的错误率最低，即寻找一个最小分错率的过程。\n",
    "  1. 最小错误率初始化为无穷大；\n",
    "  2. 遍历样本的所有特征（本例子每个样本有三个特征，即遍历这三个特征值）；\n",
    "  3. 求出该特征值步长（不同特征不一样），（最大特征值-最小特征值）/步长移动次数，如本例，假设步长移动次数为10，则第一个特征步长为（7-1）/10 = 0.6；\n",
    "  4. 根据特征值步长开始从最小特征值遍历到最大特征值；\n",
    "  5. 遍历判断符号，大于还是小于；\n",
    "  6. 计算出阈值（根据最小特征值及步长），根据阈值、符号、及特征索引、开始对样本分类；\n",
    "  7. 根据每个样本权重以及分类结果计算分错率，若该分错率小于最小分错率，则更新最小分错率；\n",
    "  8. 返回最小分错率下的特征索引、符号、阈值，即得到弱分类器。"
   ]
  },
  {
   "cell_type": "code",
   "execution_count": null,
   "metadata": {},
   "outputs": [],
   "source": [
    "# 更新theta，也就是弱分类器的阈值。用于做出新的分类器。\n",
    "# 也就是计算出新的阈值。通过步长和训练的轮次输出当前的阈值\n",
    "xMax = Samples['x'].max()\n",
    "xMin = Samples['x'].min()\n",
    "yMax = Samples['y'].max()\n",
    "yMin = Samples['y'].min()\n",
    "\n",
    "numberSteps = SampleData_pd.shape[0]\n",
    "\n",
    "xStepSize = (xMax - xMin) / numberSteps\n",
    "yStepSize = (yMax - yMin) / numberSteps\n",
    "\n",
    "def update_theta(i, max, min):\n",
    "    \"\"\"[summary]\n",
    "    更新theta，也就是弱分类器的阈值。用于做出新的分类器。\n",
    "    也就是计算出新的阈值。通过步长和训练的轮次输出当前的阈值。\n",
    "    Args:\n",
    "        i ([int]): [训练的轮次]\n",
    "        max ([float]): [该特征的最大值]\n",
    "        min ([float]): [该特征的最小值]\n",
    "\n",
    "    Returns:\n",
    "        [type]: [description]\n",
    "    \"\"\"\n",
    "    stepSize = (max - min) / numberSteps\n",
    "    return min + stepSize * i"
   ]
  },
  {
   "cell_type": "code",
   "execution_count": null,
   "metadata": {},
   "outputs": [],
   "source": [
    "# 定义弱分类器的形式。一共有两种，一种是按照特征x来进行分类的，一种是按照特征y来进行分类的。\n",
    "\n",
    "# 实际上是仅仅是在两个特征的样本中，只用x,y轴的形式进行分类，分类器也有四种。除了x，y轴的2两类，\n",
    "# 还可以定义左边是正类或者是负类。这样就增加了2类。这里不再做讨论。\n",
    "\n",
    "# 因为只有两种分类器，所以通过抛硬币的形式来确定模型的类型。\n",
    "# 这个类型通过上层调用的时候确定theta输入值的形式就可。\n",
    "def WeakClassifier(input, theta):\n",
    "    temp = sigmoid((input - theta))\n",
    "    if temp >= 0:\n",
    "        Predict_Label = 0\n",
    "    else:\n",
    "        Predict_Label = 1\n",
    "    return Predict_Label"
   ]
  },
  {
   "cell_type": "code",
   "execution_count": null,
   "metadata": {},
   "outputs": [],
   "source": [
    "# 计算分类错误率\n",
    "# 错误率就是被预测错误的样本的样本权重之和。\n",
    "def update_Error_rate(labels, pred, Dt):\n",
    "    ret = 0\n",
    "    for i in range(labels.shape[0]):\n",
    "        if labels[i] != pred[i]:\n",
    "            ret += Dt[i]\n",
    "    return ret"
   ]
  },
  {
   "cell_type": "markdown",
   "metadata": {},
   "source": [
    "## 2.2. 实现样本权重调整\n",
    "- 因为有10个样本，那么就设置10个样本权重。定义dti表示样本权重的list。\n",
    "- **样本权重之和需要为1**。\n",
    "- 而且**初始化情况下，所有样本的权重均相等**。"
   ]
  },
  {
   "cell_type": "code",
   "execution_count": 20,
   "metadata": {},
   "outputs": [
    {
     "data": {
      "text/plain": [
       "10"
      ]
     },
     "execution_count": 20,
     "metadata": {},
     "output_type": "execute_result"
    }
   ],
   "source": [
    "SampleData_pd.shape[0]"
   ]
  },
  {
   "cell_type": "code",
   "execution_count": 22,
   "metadata": {},
   "outputs": [
    {
     "name": "stdout",
     "output_type": "stream",
     "text": [
      "[0.1, 0.1, 0.1, 0.1, 0.1, 0.1, 0.1, 0.1, 0.1, 0.1]\n"
     ]
    }
   ],
   "source": [
    "# - **样本权重之和需要为1**。\n",
    "# - 而且**初始化情况下，所有样本的权重均相等**。\n",
    "Dt = [(1.0/(SampleData_pd.shape[0])) for i in range(SampleData_pd.shape[0])]\n",
    "print(Dt)"
   ]
  },
  {
   "cell_type": "code",
   "execution_count": null,
   "metadata": {},
   "outputs": [],
   "source": [
    "# 更新弱分类器的权重\n",
    "def update_Dt(Error_rate):\n",
    "    # 如果错误率为0，那么这个分类器权重为1。\n",
    "    if Error_rate == 0:\n",
    "        return 1\n",
    "    # 如果错误率为0.5，那么这个分类器和盲猜没有区别，将其权重赋值为最小值。\n",
    "    elif Error_rate == 0.5:\n",
    "        return 0.001\n",
    "    else:\n",
    "        # 按照公式计算弱分类器的权重。\n",
    "        return 0.5 * np.log((1 - Error_rate) / Error_rate)"
   ]
  },
  {
   "cell_type": "code",
   "execution_count": 28,
   "metadata": {},
   "outputs": [
    {
     "name": "stdout",
     "output_type": "stream",
     "text": [
      "0\n",
      "1\n",
      "0\n",
      "1\n",
      "1\n",
      "0\n",
      "1\n",
      "1\n",
      "1\n",
      "1\n"
     ]
    }
   ],
   "source": [
    "for i in range(10):\n",
    "    print(random.randint(0,1))"
   ]
  },
  {
   "cell_type": "code",
   "execution_count": 25,
   "metadata": {},
   "outputs": [
    {
     "name": "stdout",
     "output_type": "stream",
     "text": [
      "[1 4 5 2 3 0]\n",
      "[0 2 2 3 5 8]\n"
     ]
    }
   ],
   "source": [
    "a = np.array([8,0,3,5,2,2])\n",
    "sortLoc = np.argsort(a)\n",
    "sortVal = np.sort(a)\n",
    "print(sortLoc)\n",
    "print(sortVal)"
   ]
  },
  {
   "cell_type": "code",
   "execution_count": null,
   "metadata": {},
   "outputs": [],
   "source": [
    "# 首先实现弱分类器的训练\n",
    "# 不知道理解是否正确：弱分类器一开始都是初始化了n个。而不是一个一个训练出来的。\n",
    "\n",
    "class TrainWeakClassifier:\n",
    "    # 用于临时存储分类的标签，用于计算错误率。\n",
    "    trainLabels = []\n",
    "    # 用于临时存储错误率。\n",
    "    trainErrorRate = []\n",
    "    \n",
    "    def __init__(self) -> None:\n",
    "        pass\n",
    "    \n",
    "    def inputParametersToWeakClassifierTrain(self, type, maximum, minimum, Dt):\n",
    "        \"\"\"[summary]\n",
    "\n",
    "        Args:\n",
    "            type ([string]): [input 'x' or 'y']\n",
    "            maximum ([int]): [对应type上的最大值]\n",
    "            minimum ([int]): [对应type上的最小值]\n",
    "            Dt ([type]): [初始情况下输入Dt都是0.1，后面更新了之后就输入新的Dt]\n",
    "\n",
    "        Returns:\n",
    "            [type]: [description]\n",
    "        \"\"\"\n",
    "        for i in range(SampleData_pd.shape[0]):\n",
    "            theta = update_theta(i, maximum, minimum)\n",
    "            self.trainLabels.append(WeakClassifier(SampleData_pd[i, type], theta))\n",
    "        # 这里的Dt需要填入初始化的Dt。\n",
    "        self.trainErrorRate.append(update_Error_rate(self.trainLabels, Labels_data, Dt))\n",
    "        # 然后从其中选出1个错误率最小的弱分类器，同时得出最小的theta。\n",
    "        thetaMin_temp_locatin = self.trainErrorRate.index(max(self.trainErrorRate))\n",
    "        thetaMin_temp = self.trainErrorRate[thetaMin_temp_locatin]\n",
    "        return thetaMin_temp\n",
    "\n",
    "    def TrainWeakClassifier(self):\n",
    "        # 按照样本的数量来确定进行弱分类器的训练次数。\n",
    "        # 这个过程中并不修改样本的权重。\n",
    "        \n",
    "        thetaMin = 0\n",
    "\n",
    "        # 使用随机数来确定弱分类器是x轴还是y轴类型的分类器。0是x型弱分类器，1是y型弱分类器。\n",
    "        # 定义弱分类器的形式。一共有两种，一种是按照特征x来进行分类的，一种是按照特征y来进行分类的。\n",
    "        # 因为只有两种分类器，所以通过抛硬币的形式来确定模型的类型。\n",
    "        classifierType = random.randint(0,1)\n",
    "        if classifierType == 0:\n",
    "            thetaMin = self.inputParametersToWeakClassifierTrain('x', xMax, xMin, Dt)\n",
    "        else:\n",
    "            thetaMin = self.inputParametersToWeakClassifierTrain('y', yMax, yMin, Dt)\n",
    "        \n",
    "\n"
   ]
  },
  {
   "cell_type": "markdown",
   "metadata": {},
   "source": [
    "## 2.3. 弱分类器的权重。"
   ]
  },
  {
   "cell_type": "code",
   "execution_count": 23,
   "metadata": {},
   "outputs": [
    {
     "name": "stdout",
     "output_type": "stream",
     "text": [
      "[0.25, 0.25, 0.25, 0.25]\n"
     ]
    }
   ],
   "source": [
    "alpha_i = [0.25 for i in range(4)]\n",
    "print(alpha_i)"
   ]
  },
  {
   "cell_type": "code",
   "execution_count": 24,
   "metadata": {},
   "outputs": [],
   "source": [
    "# 更新样本的权重\n",
    "def update_Dt(Dt, alpha, labels, pred):\n",
    "    new_Dt = []\n",
    "    for i in range(len(labels)):\n",
    "        new_Dt.append(Dt[i] * np.exp( -alpha * labels[i] * pred[i]))\n",
    "    return np.array(new_Dt/sum(new_Dt)).reshape([len(labels),1])"
   ]
  },
  {
   "cell_type": "code",
   "execution_count": 25,
   "metadata": {},
   "outputs": [
    {
     "data": {
      "text/plain": [
       "4"
      ]
     },
     "execution_count": 25,
     "metadata": {},
     "output_type": "execute_result"
    }
   ],
   "source": [
    "SampleData_pd.shape[1]"
   ]
  }
 ],
 "metadata": {
  "interpreter": {
   "hash": "d94ea807e9dd88dec85d6135010093db08445b4f78f2386ac1d177de969ce657"
  },
  "kernelspec": {
   "display_name": "Python 3.7.9 64-bit",
   "name": "python3"
  },
  "language_info": {
   "codemirror_mode": {
    "name": "ipython",
    "version": 3
   },
   "file_extension": ".py",
   "mimetype": "text/x-python",
   "name": "python",
   "nbconvert_exporter": "python",
   "pygments_lexer": "ipython3",
   "version": "3.7.9"
  },
  "orig_nbformat": 4
 },
 "nbformat": 4,
 "nbformat_minor": 2
}
