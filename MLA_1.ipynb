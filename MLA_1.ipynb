{
 "cells": [
  {
   "cell_type": "markdown",
   "metadata": {},
   "source": [
    "# Implement AdaBoost"
   ]
  },
  {
   "cell_type": "markdown",
   "metadata": {},
   "source": [
    "# 1. read data"
   ]
  },
  {
   "cell_type": "code",
   "execution_count": 1,
   "metadata": {},
   "outputs": [],
   "source": [
    "# import function\n",
    "import numpy as np\n",
    "import pandas as pd\n",
    "import matplotlib.pyplot as plt\n",
    "import os\n",
    "import datetime\n",
    "import time\n",
    "import math\n",
    "import random\n",
    "%matplotlib inline"
   ]
  },
  {
   "cell_type": "code",
   "execution_count": 2,
   "metadata": {},
   "outputs": [
    {
     "name": "stdout",
     "output_type": "stream",
     "text": [
      "./data/A1.csv is existed.\n",
      "   number    x    y  label\n",
      "0       1   80  144      1\n",
      "1       2   93  232      1\n",
      "2       3  136  275     -1\n",
      "3       4  147  131     -1\n",
      "4       5  159   69      1\n",
      "5       6  214   31      1\n",
      "6       7  214  152     -1\n",
      "7       8  257   83      1\n",
      "8       9  307   62     -1\n",
      "9      10  307  231     -1\n",
      "number    int64\n",
      "x         int64\n",
      "y         int64\n",
      "label     int64\n",
      "dtype: object\n",
      "   number    x    y  label\n",
      "0       1   80  144      1\n",
      "1       2   93  232      1\n",
      "2       3  136  275      0\n",
      "3       4  147  131      0\n",
      "4       5  159   69      1\n",
      "5       6  214   31      1\n",
      "6       7  214  152      0\n",
      "7       8  257   83      1\n",
      "8       9  307   62      0\n",
      "9      10  307  231      0\n"
     ]
    }
   ],
   "source": [
    "SampleData_SavePath = \"./data/A1.csv\"\n",
    "\n",
    "SampleData_pd = pd.DataFrame()\n",
    "if not os.path.isfile(SampleData_SavePath):\n",
    "    print(SampleData_SavePath, \"is not existed.\")\n",
    "else :\n",
    "    print(SampleData_SavePath, \"is existed.\")\n",
    "    SampleData_pd = pd.read_csv(SampleData_SavePath)\n",
    "\n",
    "print(SampleData_pd)\n",
    "print(SampleData_pd.dtypes)\n",
    "\n",
    "def preprocessLabel(label):\n",
    "    if label == -1 :\n",
    "        return 0\n",
    "    else:\n",
    "        return 1\n",
    "\n",
    "SampleData_pd['label'] = SampleData_pd.apply(lambda x :preprocessLabel(x['label']), axis = 1)\n",
    "print(SampleData_pd)"
   ]
  },
  {
   "cell_type": "code",
   "execution_count": 3,
   "metadata": {},
   "outputs": [
    {
     "data": {
      "image/png": "[encoded data removed]",
      "text/plain": [
       "<Figure size 432x288 with 1 Axes>"
      ]
     },
     "metadata": {
      "needs_background": "light"
     },
     "output_type": "display_data"
    }
   ],
   "source": [
    "# display data\n",
    "plt.title(\"AdaBoost Samples\")\n",
    "plt.xlabel('X')\n",
    "plt.ylabel('Y')\n",
    "\n",
    "for index, row in SampleData_pd.iterrows():\n",
    "    if row['label'] == 1:\n",
    "        plt.scatter(row['x'], row['y'], marker='+', color='red')\n",
    "    else:\n",
    "        plt.scatter(row['x'], row['y'], marker='_', color='blue')\n",
    "plt.savefig(\"./pictures/samples.jpg\")\n",
    "plt.show()"
   ]
  },
  {
   "cell_type": "code",
   "execution_count": 9,
   "metadata": {},
   "outputs": [
    {
     "name": "stdout",
     "output_type": "stream",
     "text": [
      "   number    x    y  label\n",
      "0       1   80  144      1\n",
      "6       7  214  152      0\n",
      "1       2   93  232      1\n",
      "7       8  257   83      1\n",
      "5       6  214   31      1\n",
      "9      10  307  231      0\n",
      "3       4  147  131      0\n",
      "2       3  136  275      0\n",
      "8       9  307   62      0\n",
      "4       5  159   69      1\n",
      "0    1\n",
      "6    0\n",
      "1    1\n",
      "7    1\n",
      "5    1\n",
      "9    0\n",
      "3    0\n",
      "2    0\n",
      "8    0\n",
      "4    1\n",
      "Name: label, dtype: int64\n",
      "(10,)\n"
     ]
    }
   ],
   "source": [
    "# 先不要打乱，并将标签与数据分割出来。\n",
    "# 分割的作用是方便与后面进行错误率的计算。这样混合在一起的数据集、单纯数据集、标签集都有了。\n",
    "# Samples = SampleData_pd.sample(frac=1).copy()\n",
    "\n",
    "Samples_data = Samples.iloc[:,:3].copy()\n",
    "Labels_data = Samples.iloc[:,3].copy()\n",
    "\n",
    "print(Samples)\n",
    "print(Labels_data)\n",
    "print(Labels_data.shape)"
   ]
  },
  {
   "cell_type": "markdown",
   "metadata": {},
   "source": [
    "# 2. complete train weak classifier"
   ]
  },
  {
   "cell_type": "code",
   "execution_count": 8,
   "metadata": {},
   "outputs": [
    {
     "data": {
      "image/png": "[encoded data removed]",
      "text/plain": [
       "<Figure size 432x288 with 1 Axes>"
      ]
     },
     "metadata": {
      "needs_background": "light"
     },
     "output_type": "display_data"
    }
   ],
   "source": [
    "# common function\n",
    "# activtion function \n",
    "def sigmoid(input):\n",
    "    return (1.0/(1 + np.exp(-input)))-0.5\n",
    "\n",
    "# display and survey/check/test sigmoid function\n",
    "z = np.arange(-10, 10, 0.01)\n",
    "fz = []\n",
    "for zi in z:\n",
    "    fz.append(sigmoid(zi))\n",
    "plt.title('Sigmoid Function')\n",
    "plt.xlabel('z')\n",
    "plt.ylabel('σ(z)')\n",
    "plt.plot(z, fz)\n",
    "plt.grid()\n",
    "plt.savefig(\"./pictures/sigmoid.jpg\")\n",
    "plt.show()"
   ]
  },
  {
   "cell_type": "code",
   "execution_count": 24,
   "metadata": {},
   "outputs": [],
   "source": [
    "def displaySingleWeakClassifier(wc_type, samples, theta, error_rate, offset=10):\n",
    "    plt.title(\"AdaBoost Weak Classifier\")\n",
    "    plt.xlabel('X')\n",
    "    plt.ylabel('Y')\n",
    "\n",
    "    for index, row in samples.iterrows():\n",
    "        if row['label'] == 1:\n",
    "            plt.scatter(row['x'], row['y'], marker='+', color='red')\n",
    "        else:\n",
    "            plt.scatter(row['x'], row['y'], marker='_', color='blue')\n",
    "    if wc_type == 'x':\n",
    "        plt.axvline(theta)\n",
    "        y_mean = samples['y'].mean()\n",
    "        plt.text(theta + offset/2, y_mean, 'error rate =%0.2f'%error_rate)\n",
    "    else:\n",
    "        plt.axhline(theta)\n",
    "        x_mean = samples['x'].mean()\n",
    "        # 加了一个偏移量，避免显示的字和线条重合在一起。\n",
    "        plt.text(x_mean, theta + offset, 'error rate =%0.2f'%error_rate)\n",
    "    plt.show()"
   ]
  },
  {
   "cell_type": "code",
   "execution_count": 26,
   "metadata": {},
   "outputs": [
    {
     "data": {
      "image/png": "[encoded data removed]",
      "text/plain": [
       "<Figure size 432x288 with 1 Axes>"
      ]
     },
     "metadata": {
      "needs_background": "light"
     },
     "output_type": "display_data"
    },
    {
     "data": {
      "image/png": "[encoded data removed]",
      "text/plain": [
       "<Figure size 432x288 with 1 Axes>"
      ]
     },
     "metadata": {
      "needs_background": "light"
     },
     "output_type": "display_data"
    }
   ],
   "source": [
    "# 测试显示弱分类器的函数。\n",
    "displaySingleWeakClassifier('x', SampleData_pd, 200, 0.5)\n",
    "\n",
    "displaySingleWeakClassifier('y', SampleData_pd, 200, 0.4)"
   ]
  },
  {
   "cell_type": "code",
   "execution_count": 27,
   "metadata": {},
   "outputs": [],
   "source": [
    "# def displayMultipleWeakClassifier(wc_type_list, samples, theta_list, error_rate_list, offset=10):\n",
    "#     plt.title(\"AdaBoost Weak Classifier\")\n",
    "#     plt.xlabel('X')\n",
    "#     plt.ylabel('Y')\n",
    "\n",
    "#     for index, row in samples.iterrows():\n",
    "#         if row['label'] == 1:\n",
    "#             plt.scatter(row['x'], row['y'], marker='+', color='red')\n",
    "#         else:\n",
    "#             plt.scatter(row['x'], row['y'], marker='_', color='blue')\n",
    "#     if wc_type == 'x':\n",
    "#         plt.axvline(theta)\n",
    "#         y_mean = samples['y'].mean()\n",
    "#         plt.text(theta + offset/2, y_mean, 'error rate =%0.2f'%error_rate)\n",
    "#     else:\n",
    "#         plt.axhline(theta)\n",
    "#         x_mean = samples['x'].mean()\n",
    "#         # 加了一个偏移量，避免显示的字和线条重合在一起。\n",
    "#         plt.text(x_mean, theta + offset, 'error rate =%0.2f'%error_rate)\n",
    "#     plt.show()"
   ]
  },
  {
   "cell_type": "code",
   "execution_count": 14,
   "metadata": {},
   "outputs": [
    {
     "name": "stdout",
     "output_type": "stream",
     "text": [
      "0    1\n",
      "6    1\n",
      "1    1\n",
      "7    1\n",
      "5    1\n",
      "9    0\n",
      "3    0\n",
      "2    1\n",
      "8    0\n",
      "4    1\n",
      "Name: label, dtype: int64\n",
      "10\n",
      "[[0.0620051]\n",
      " [0.0620051]\n",
      " [0.1379949]\n",
      " [0.1379949]\n",
      " [0.0620051]\n",
      " [0.0620051]\n",
      " [0.1379949]\n",
      " [0.0620051]\n",
      " [0.1379949]\n",
      " [0.1379949]]\n"
     ]
    }
   ],
   "source": [
    "# 测试更新样本权重函数。\n",
    "temp = Labels_data.copy()\n",
    "temp[6] = 1\n",
    "temp[2] = 1\n",
    "print(temp)\n",
    "print(temp.shape[0])\n",
    "\n",
    "def update_sample_weight(samples_weight_before, wc_weight, labels, prediction):\n",
    "    # 更新样本的权重。\n",
    "    new_samples_weight = []\n",
    "    for i in range(len(labels)):\n",
    "        new_samples_weight.append(samples_weight_before[i] * np.exp(-wc_weight * labels[i] * prediction[i]))\n",
    "        pass\n",
    "    return np.array(new_samples_weight/sum(new_samples_weight)).reshape([len(labels) ,1])\n",
    "samples_weight_before = [(1.0/(SampleData_pd.shape[0])) for i in range(Samples_data.shape[0])]\n",
    "wc_weight = 0.8\n",
    "print(update_sample_weight(samples_weight_before, wc_weight, Labels_data, temp))\n",
    "\n",
    "def compare(a, b):\n",
    "    if a == b:\n",
    "        return 1\n",
    "    else:\n",
    "        return 0\n",
    "\n",
    "def calculate_Error_rate(labels, pred, sample_weight):\n",
    "    # 计算弱分类器的错误率。\n",
    "    temp_pd = pd.concat([labels, pred], axis=1)\n",
    "    # temp_pd['ret'] = temp_pd.apply(lambda x : compare(temp_pd['label'], temp_pd['pred']), axis=1)\n",
    "    ret = 0\n",
    "    for i in range(labels.shape[0]):\n",
    "        if labels[i] != pred[i]:\n",
    "            ret += sample_weight[i]\n",
    "    return ret"
   ]
  },
  {
   "cell_type": "code",
   "execution_count": 34,
   "metadata": {},
   "outputs": [],
   "source": [
    "def WeakClassifier(input, theta):\n",
    "    temp = sigmoid((input - theta))\n",
    "    if temp >= 0:\n",
    "        Predict_Label = 0\n",
    "    else:\n",
    "        Predict_Label = 1\n",
    "    return Predict_Label\n",
    "\n",
    "class FindSingleWeakClassifier:\n",
    "    \"\"\"[summary]\n",
    "    最终是需要输出一个弱分类器的形式。所以中间对数据集都以list的形式来处理。\n",
    "    Returns:\n",
    "        [type]: [description]\n",
    "    \"\"\"\n",
    "    # step_size, \n",
    "    def __init__(self, wc_function, samples, labels, samples_weight, wc_type, step_number=0):\n",
    "        \"\"\"[summary]\n",
    "\n",
    "        Args:\n",
    "            wc_function ([function pointer]): [define weak classifier function form.]\n",
    "            samples ([pd.DataFrame]): [samples data]\n",
    "            labels ([pd.DataFrame]): [labels data]\n",
    "            step_size ([float]): [step size]\n",
    "            step_number ([float]): [step number]\n",
    "            wc_type ([int:0|1]): [weak classifier type. in this example, \n",
    "                                    it means x or y.]\n",
    "        \"\"\"\n",
    "        self.wc_function = wc_function\n",
    "        # 这里不对，直接按照x或者y的类型，来计算对比的方向。\n",
    "        # self.samples = samples\n",
    "        self.labels = labels.tolist()\n",
    "        self.wc_type = wc_type\n",
    "        self.samples_weight = samples_weight\n",
    "        \n",
    "        # calculate step size and input samples.\n",
    "        if self.wc_type == 'x':\n",
    "            self.samples = samples['x'].tolist()\n",
    "            xMax = max(self.samples)\n",
    "            xMin = min(self.samples)\n",
    "            if step_number == 0:\n",
    "                # calculate weakclassifier step if no step_number is inputted.\n",
    "                self.step_number = samples.shape[0]\n",
    "            self.StepSize = (xMax - xMin) / self.step_number\n",
    "        else:\n",
    "            self.samples = samples['y'].tolist()\n",
    "            yMax = max(self.samples)\n",
    "            yMin = min(self.samples)\n",
    "            if step_number == 0:\n",
    "                # calculate weakclassifier step if no step_number is inputted.\n",
    "                self.step_number = samples.shape[0]\n",
    "            self.StepSize = (yMax - yMin) / self.step_number\n",
    "            \n",
    "        \n",
    "    def predictSamples(self, theta):\n",
    "        # prediction = pd.DataFrame(np.zeros((10,1)))\n",
    "        # for index, row in self.samples.iterrows():\n",
    "        #     self.wc_function(row, theta)\n",
    "        prediction = [0 for i in range(len(self.samples))]\n",
    "        for i in range(len(self.samples)):\n",
    "            prediction[i] = self.wc_function(self.samples[i], theta)\n",
    "        return prediction\n",
    "    \n",
    "    def calculate_Error_rate(self, labels, pred, sample_weight):\n",
    "        # 计算弱分类器的错误率。\n",
    "        ret = 0\n",
    "        for i in range(len(labels)):\n",
    "            if labels[i] != pred[i]:\n",
    "                ret += sample_weight[i]\n",
    "        return ret\n",
    "    \n",
    "    # def update_sample_weight(self, old_samples_weight, wc_weight, labels, prediction):\n",
    "    #     # 更新样本的权重。\n",
    "    #     new_samples_weight = []\n",
    "    #     for i in range(len(labels)):\n",
    "    #         new_samples_weight.append(old_samples_weight[i] * np.exp(-wc_weight * labels[i] * prediction[i]))\n",
    "    #         pass\n",
    "    #     return np.array(new_samples_weight/sum(new_samples_weight)).reshape([len(labels) ,1])\n",
    "    \n",
    "    def FindSingleWeakClassifier(self):\n",
    "        temp_theta = []\n",
    "        temp_error_rate = []\n",
    "        temp_prediction = []\n",
    "        # 初始时，样本的权重是平均值。\n",
    "        # init_samples_weight = [(1.0/(self.samples.shape[0])) for i in range(self.samples.shape[0])]\n",
    "        \n",
    "        for i in range(self.step_number):\n",
    "            # 按照步长来训练弱分类器。\n",
    "            theta = i * self.StepSize\n",
    "            temp_theta.append(theta)\n",
    "            temp_prediction = self.predictSamples(theta)\n",
    "            temp_error_rate.append(self.calculate_Error_rate(self.labels, temp_prediction, self.samples_weight))\n",
    "        location = temp_error_rate.index(min(temp_error_rate))\n",
    "        return temp_theta[location], temp_error_rate[location]\n"
   ]
  },
  {
   "cell_type": "code",
   "execution_count": 35,
   "metadata": {},
   "outputs": [
    {
     "name": "stdout",
     "output_type": "stream",
     "text": [
      "113.5\n"
     ]
    },
    {
     "data": {
      "image/png": "[encoded data removed]",
      "text/plain": [
       "<Figure size 432x288 with 1 Axes>"
      ]
     },
     "metadata": {
      "needs_background": "light"
     },
     "output_type": "display_data"
    }
   ],
   "source": [
    "samples_weight = [(1.0/(Samples_data.shape[0])) for i in range(Samples_data.shape[0])]\n",
    "\n",
    "getWCClass = FindSingleWeakClassifier(WeakClassifier, Samples_data, Labels_data, samples_weight, 'x')\n",
    "theta, error_rate = getWCClass.FindSingleWeakClassifier()\n",
    "print(theta)\n",
    "displaySingleWeakClassifier('x', SampleData_pd, theta, error_rate)"
   ]
  }
 ],
 "metadata": {
  "interpreter": {
   "hash": "d94ea807e9dd88dec85d6135010093db08445b4f78f2386ac1d177de969ce657"
  },
  "kernelspec": {
   "display_name": "Python 3.7.9 64-bit",
   "name": "python3"
  },
  "language_info": {
   "codemirror_mode": {
    "name": "ipython",
    "version": 3
   },
   "file_extension": ".py",
   "mimetype": "text/x-python",
   "name": "python",
   "nbconvert_exporter": "python",
   "pygments_lexer": "ipython3",
   "version": "3.7.9"
  },
  "orig_nbformat": 4
 },
 "nbformat": 4,
 "nbformat_minor": 2
}
