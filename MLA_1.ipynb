{
 "cells": [
  {
   "cell_type": "markdown",
   "metadata": {},
   "source": [
    "# Implement AdaBoost"
   ]
  },
  {
   "cell_type": "markdown",
   "metadata": {},
   "source": [
    "# 1. read data"
   ]
  },
  {
   "cell_type": "code",
   "execution_count": 1,
   "metadata": {},
   "outputs": [],
   "source": [
    "# import function\n",
    "import numpy as np\n",
    "import pandas as pd\n",
    "import matplotlib.pyplot as plt\n",
    "import os\n",
    "import datetime\n",
    "import time\n",
    "import math\n",
    "import random\n",
    "%matplotlib inline"
   ]
  },
  {
   "cell_type": "code",
   "execution_count": 2,
   "metadata": {},
   "outputs": [
    {
     "name": "stdout",
     "output_type": "stream",
     "text": [
      "./data/A1.csv is existed.\n",
      "   number    x    y  label\n",
      "0       1   80  144      1\n",
      "1       2   93  232      1\n",
      "2       3  136  275     -1\n",
      "3       4  147  131     -1\n",
      "4       5  159   69      1\n",
      "5       6  214   31      1\n",
      "6       7  214  152     -1\n",
      "7       8  257   83      1\n",
      "8       9  307   62     -1\n",
      "9      10  307  231     -1\n",
      "number    int64\n",
      "x         int64\n",
      "y         int64\n",
      "label     int64\n",
      "dtype: object\n"
     ]
    }
   ],
   "source": [
    "SampleData_SavePath = \"./data/A1.csv\"\n",
    "\n",
    "SampleData_pd = pd.DataFrame()\n",
    "if not os.path.isfile(SampleData_SavePath):\n",
    "    print(SampleData_SavePath, \"is not existed.\")\n",
    "else :\n",
    "    print(SampleData_SavePath, \"is existed.\")\n",
    "    SampleData_pd = pd.read_csv(SampleData_SavePath)\n",
    "\n",
    "print(SampleData_pd)\n",
    "print(SampleData_pd.dtypes)\n",
    "\n",
    "# 不能将-1 和 1的值变为0和1的值。\n",
    "# def preprocessLabel(label):\n",
    "#     if label == -1 :\n",
    "#         return 0\n",
    "#     else:\n",
    "#         return 1\n",
    "\n",
    "# SampleData_pd['label'] = SampleData_pd.apply(lambda x :preprocessLabel(x['label']), axis = 1)\n",
    "# print(SampleData_pd)"
   ]
  },
  {
   "cell_type": "code",
   "execution_count": 3,
   "metadata": {},
   "outputs": [
    {
     "data": {
      "image/png": "[encoded data removed]",
      "text/plain": [
       "<Figure size 432x288 with 1 Axes>"
      ]
     },
     "metadata": {
      "needs_background": "light"
     },
     "output_type": "display_data"
    }
   ],
   "source": [
    "# display data\n",
    "plt.title(\"AdaBoost Samples\")\n",
    "plt.xlabel('X')\n",
    "plt.ylabel('Y')\n",
    "\n",
    "for index, row in SampleData_pd.iterrows():\n",
    "    if row['label'] == 1:\n",
    "        plt.scatter(row['x'], row['y'], marker='+', color='red')\n",
    "    else:\n",
    "        plt.scatter(row['x'], row['y'], marker='_', color='blue')\n",
    "plt.savefig(\"./pictures/samples.jpg\")\n",
    "plt.show()"
   ]
  },
  {
   "cell_type": "code",
   "execution_count": 4,
   "metadata": {},
   "outputs": [
    {
     "name": "stdout",
     "output_type": "stream",
     "text": [
      "   number    x    y\n",
      "0       1   80  144\n",
      "1       2   93  232\n",
      "2       3  136  275\n",
      "3       4  147  131\n",
      "4       5  159   69\n",
      "5       6  214   31\n",
      "6       7  214  152\n",
      "7       8  257   83\n",
      "8       9  307   62\n",
      "9      10  307  231\n",
      "0    1\n",
      "1    1\n",
      "2   -1\n",
      "3   -1\n",
      "4    1\n",
      "5    1\n",
      "6   -1\n",
      "7    1\n",
      "8   -1\n",
      "9   -1\n",
      "Name: label, dtype: int64\n",
      "(10,)\n"
     ]
    }
   ],
   "source": [
    "# 不要对数据进行重新排序。\n",
    "# do not shuffle data\n",
    "# 分割的作用是方便与后面进行错误率的计算。这样混合在一起的数据集、单纯数据集、标签集都有了。\n",
    "# Samples = SampleData_pd.sample(frac=1).copy()\n",
    "\n",
    "Samples_data = SampleData_pd.iloc[:,:3].copy()\n",
    "Labels_data = SampleData_pd.iloc[:,3].copy()\n",
    "\n",
    "print(Samples_data)\n",
    "print(Labels_data)\n",
    "print(Labels_data.shape)"
   ]
  },
  {
   "cell_type": "markdown",
   "metadata": {},
   "source": [
    "# 2. complete train weak classifier"
   ]
  },
  {
   "cell_type": "code",
   "execution_count": 5,
   "metadata": {},
   "outputs": [
    {
     "data": {
      "image/png": "[encoded data removed]",
      "text/plain": [
       "<Figure size 432x288 with 1 Axes>"
      ]
     },
     "metadata": {
      "needs_background": "light"
     },
     "output_type": "display_data"
    }
   ],
   "source": [
    "# common function\n",
    "# activtion function \n",
    "def sigmoid(input):\n",
    "    return (1.0/(1 + np.exp(-input)))-0.5\n",
    "\n",
    "# display and survey/check/test sigmoid function\n",
    "z = np.arange(-10, 10, 0.01)\n",
    "fz = []\n",
    "for zi in z:\n",
    "    fz.append(sigmoid(zi))\n",
    "plt.title('Sigmoid Function')\n",
    "plt.xlabel('z')\n",
    "plt.ylabel('σ(z)')\n",
    "plt.plot(z, fz)\n",
    "plt.grid()\n",
    "plt.savefig(\"./pictures/sigmoid.jpg\")\n",
    "plt.show()"
   ]
  },
  {
   "cell_type": "code",
   "execution_count": 6,
   "metadata": {},
   "outputs": [],
   "source": [
    "def displaySingleWeakClassifier(wc_type, samples, theta, error_rate, offset=10):\n",
    "    \"\"\"[summary]\n",
    "    display single weak classifier information.\n",
    "    Args:\n",
    "        wc_type ([string]): ['x' or 'y']\n",
    "        samples ([pd.DataFrame]): [sample data]\n",
    "        theta ([float]): [weak classifier theta]\n",
    "        error_rate ([float]): [this weak classifier error rate]\n",
    "        offset (int, optional): [description]. Defaults to 10.\n",
    "    \"\"\"\n",
    "    plt.title(\"AdaBoost Weak Classifier\")\n",
    "    plt.xlabel('X')\n",
    "    plt.ylabel('Y')\n",
    "\n",
    "    for index, row in samples.iterrows():\n",
    "        if row['label'] == 1:\n",
    "            plt.scatter(row['x'], row['y'], marker='+', color='red')\n",
    "        else:\n",
    "            plt.scatter(row['x'], row['y'], marker='_', color='blue')\n",
    "    if wc_type == 'x':\n",
    "        plt.axvline(theta)\n",
    "        y_mean = samples['y'].mean()\n",
    "        plt.text(theta + offset/2, y_mean, 'error rate =%0.2f\\n theta =%0.2f'%(error_rate, theta))\n",
    "    else:\n",
    "        plt.axhline(theta)\n",
    "        x_mean = samples['x'].mean()\n",
    "        # 加了一个偏移量，避免显示的字和线条重合在一起。\n",
    "        # add a offset, In order to avoid overlapping the displayed content and lines.\n",
    "        plt.text(x_mean, theta + offset, 'error rate =%0.2f\\n theta =%0.2f'%(error_rate, theta))\n",
    "    plt.show()"
   ]
  },
  {
   "cell_type": "code",
   "execution_count": 7,
   "metadata": {},
   "outputs": [
    {
     "data": {
      "image/png": "[encoded data removed]",
      "text/plain": [
       "<Figure size 432x288 with 1 Axes>"
      ]
     },
     "metadata": {
      "needs_background": "light"
     },
     "output_type": "display_data"
    },
    {
     "data": {
      "image/png": "[encoded data removed]",
      "text/plain": [
       "<Figure size 432x288 with 1 Axes>"
      ]
     },
     "metadata": {
      "needs_background": "light"
     },
     "output_type": "display_data"
    }
   ],
   "source": [
    "# 测试显示弱分类器的函数。\n",
    "# test display weak classifier function\n",
    "displaySingleWeakClassifier('x', SampleData_pd, 200, 0.5)\n",
    "\n",
    "displaySingleWeakClassifier('y', SampleData_pd, 200, 0.4)"
   ]
  },
  {
   "cell_type": "code",
   "execution_count": 8,
   "metadata": {},
   "outputs": [
    {
     "name": "stdout",
     "output_type": "stream",
     "text": [
      "0    1\n",
      "1   -1\n",
      "2    1\n",
      "3   -1\n",
      "4    1\n",
      "5    1\n",
      "6    1\n",
      "7    1\n",
      "8   -1\n",
      "9   -1\n",
      "Name: label, dtype: int64\n",
      "10\n",
      "[0.04574754 0.22658907 0.22658907 0.04574754 0.04574754 0.04574754\n",
      " 0.22658907 0.04574754 0.04574754 0.04574754]\n"
     ]
    }
   ],
   "source": [
    "# 测试更新样本权重函数。\n",
    "# test update samples weight function.\n",
    "temp = Labels_data.copy()\n",
    "temp[6] = 1\n",
    "temp[2] = 1\n",
    "temp[1] = -1\n",
    "print(temp)\n",
    "print(temp.shape[0])\n",
    "\n",
    "def update_sample_weight(samples_weight_before, wc_weight, labels, prediction):\n",
    "    \"\"\"[summary]\n",
    "    \n",
    "    Args:\n",
    "        samples_weight_before ([list]): [last time samples weight.]\n",
    "        wc_weight ([float]): [current weak classifier weight]\n",
    "        labels ([pd.DataFrame]): [labels]\n",
    "        prediction ([list]): [current predict value]\n",
    "\n",
    "    Returns:\n",
    "        [list]: [description]\n",
    "    \"\"\"\n",
    "    # 更新样本的权重。\n",
    "    # update samples weight.\n",
    "    \n",
    "    # print(\"--------u1---------\")\n",
    "    # print(samples_weight_before)\n",
    "    new_samples_weight = []\n",
    "    for i in range(len(labels)):\n",
    "        new_samples_weight.append(samples_weight_before[i] * np.exp(-wc_weight * labels[i] * prediction[i]))\n",
    "        pass\n",
    "    # return np.array(new_samples_weight/sum(new_samples_weight)).reshape([len(labels) ,1])\n",
    "    # 最终输出的结果是List.\n",
    "    # the output type is list in the end.  \n",
    "    output = new_samples_weight/sum(new_samples_weight)\n",
    "    # print(output)\n",
    "    # print(\"--------u2---------\")\n",
    "    return output\n",
    "\n",
    "samples_weight_before = [(1.0/(SampleData_pd.shape[0])) for i in range(Samples_data.shape[0])]\n",
    "wc_weight = 0.8\n",
    "print(update_sample_weight(samples_weight_before, wc_weight, Labels_data, temp))"
   ]
  },
  {
   "cell_type": "code",
   "execution_count": 9,
   "metadata": {},
   "outputs": [],
   "source": [
    "def WeakClassifier(input, theta):\n",
    "    \"\"\"[summary]\n",
    "    define weak classifier function form.\n",
    "    Args:\n",
    "        input ([float]): [input sample value]\n",
    "        theta ([float]): [weak classifier theta]\n",
    "\n",
    "    Returns:\n",
    "        [int]: [predict value]\n",
    "    \"\"\"\n",
    "    temp = sigmoid((input - theta))\n",
    "    if temp >= 0:\n",
    "        Predict_Label = -1\n",
    "    else:\n",
    "        Predict_Label = 1\n",
    "    return Predict_Label\n",
    "\n",
    "class FindSingleWeakClassifierClass:\n",
    "    \"\"\"[summary]\n",
    "    最终是需要输出一个弱分类器的形式指针。所以中间对数据集都以list的形式来处理。\n",
    "    finaly, outpuu a weak classifier function point. so, all process data parameters type is list.\n",
    "    Returns:\n",
    "        [type]: [description]\n",
    "    \"\"\"\n",
    "    # step_size, \n",
    "    def __init__(self, wc_function, samples, labels, step_number=0):\n",
    "        \"\"\"[summary]\n",
    "        samples_weight, \n",
    "        wc_type, \n",
    "        Args:\n",
    "            wc_function ([function pointer]): [define weak classifier function form.]\n",
    "            samples ([pd.DataFrame]): [samples data]\n",
    "            labels ([pd.DataFrame]): [labels data]\n",
    "            step_size ([float]): [step size]\n",
    "            step_number ([float]): [step number]\n",
    "            wc_type ([int:0|1]): [weak classifier type. in this example, \n",
    "                                    it means x or y.]\n",
    "        \"\"\"\n",
    "        self.wc_function = wc_function\n",
    "        # 这里不对，直接按照x或者y的类型，来计算对比的方向。\n",
    "        # this is wrong, Calculate the direction of comparison directly according to the type of X or y.\n",
    "        # self.samples = samples\n",
    "        self.labels = labels.tolist()\n",
    "        # self.wc_type = wc_type\n",
    "        # self.samples_weight = samples_weight\n",
    "        self.step_number = step_number\n",
    "        \n",
    "        # 首先把输入的samples dataframe存下来，然后再处理为list的形式。\n",
    "        # first, save input samples dataframe, and then change input type to list.\n",
    "        # 这个temp_samples只是缓存用的。真正在后面计算的是使用的self.samples。\n",
    "        # this temp_samples is cache. the real calculate data is self.samples behind.\n",
    "        self.temp_samples = samples\n",
    "        self.samples = []\n",
    "        # self.selected_theta_list = selected_theta_list\n",
    "        # , selected_theta_list\n",
    "\n",
    "    def according_to_wctype_proecess_data(self, wc_type):\n",
    "        \"\"\"[summary]\n",
    "        generate step, step size, samples_list according to wc_type.\n",
    "        Args:\n",
    "            wc_type ([string]): ['x' or 'y']\n",
    "        \"\"\"\n",
    "        # 并不需要将wc_type存储为self.wc_type，直接在每次对weakclassifier进行循环的时候输入一次即可。\n",
    "        # don't save wc_type to self.wc_type, input weak classifier per loop.\n",
    "        if wc_type == 'x':\n",
    "            self.samples = self.temp_samples['x'].tolist()\n",
    "            xMax = max(self.samples)\n",
    "            xMin = min(self.samples)\n",
    "            if self.step_number == 0:\n",
    "                # calculate weakclassifier step if no step_number is inputted.\n",
    "                self.step_number = self.temp_samples.shape[0]\n",
    "            self.StepSize = (xMax - xMin) / self.step_number\n",
    "        else:\n",
    "            self.samples = self.temp_samples['y'].tolist()\n",
    "            yMax = max(self.samples)\n",
    "            yMin = min(self.samples)\n",
    "            if self.step_number == 0:\n",
    "                # calculate weakclassifier step if no step_number is inputted.\n",
    "                self.step_number = self.temp_samples.shape[0]\n",
    "            self.StepSize = (yMax - yMin) / self.step_number\n",
    "        \n",
    "    def predictSamples(self, theta):\n",
    "        \"\"\"[summary]\n",
    "        predict labels according to samples.\n",
    "        Args:\n",
    "            theta ([float]): [current wc theta value.]\n",
    "\n",
    "        Returns:\n",
    "            [list]: [predict result.]\n",
    "        \"\"\"\n",
    "        # prediction = pd.DataFrame(np.zeros((10,1)))\n",
    "        # for index, row in self.samples.iterrows():\n",
    "        #     self.wc_function(row, theta)\n",
    "        prediction = [0 for i in range(len(self.samples))]\n",
    "        for i in range(len(self.samples)):\n",
    "            prediction[i] = self.wc_function(self.samples[i], theta)\n",
    "        return prediction\n",
    "    \n",
    "    def choose_error_rate(self, selected_error_rate_location, error_rate_list):\n",
    "        \"\"\"[summary]\n",
    "        the method of choose error rate . \n",
    "        in the book,the method is when error rate >= 0.5, should stop find the best wc.\n",
    "        but maybe has some problem. so, the following method are used.\n",
    "        Args:\n",
    "            selected_error_rate_location ([type]): [input location of selected error_rate\n",
    "                也就是传入的是error_rate_list中已经被选择过的下标。\n",
    "                by the way,  input index that has selected in error_rate_list.\n",
    "                对应的意义在于传入的是已经被选择过的wc的，已经选择过的不再选择。\n",
    "                The corresponding meaning is that the WC that has been selected\n",
    "                is passed in, and the WC that has been selected is no longer selected.]\n",
    "            error_rate_list ([type]): [description]\n",
    "\n",
    "        Returns:\n",
    "            minvalue ([float]): [description]\n",
    "            minIndex ([int]): [description]\n",
    "        \"\"\"\n",
    "        # 计算两个集合的差集，然后再从差集中选择出最小的值作为返回值。\n",
    "        # Calculate the difference set of two sets, and then \n",
    "        # select the smallest value from the difference set as the return value.\n",
    "        # print(selected_error_rate)\n",
    "        # print(error_rate_list)\n",
    "        error_rate_list_location = list(range(len(error_rate_list)))\n",
    "        # 已经选择过wc，将不在选取。\n",
    "        # Already selected WC will not be selected.\n",
    "        minIndex_list = list(set(error_rate_list_location).difference(set(selected_error_rate_location)))\n",
    "        # 先将第一个值赋值给min_value，然后通过它寻找最小的一个值。\n",
    "        # First assign the first value to min_value, and then use it to find the smallest value.\n",
    "        min_value = error_rate_list[minIndex_list[0]]\n",
    "        for tempindex in minIndex_list:\n",
    "            if error_rate_list[tempindex] < min_value:\n",
    "                min_value = error_rate_list[tempindex]\n",
    "                minIndex = tempindex\n",
    "        print(min_value)\n",
    "        # 如果选择的wc的错误率依然大于0.5，那么将取全局最小值作为替补。\n",
    "        # If the error rate of the selected WC is still greater \n",
    "        # than 0.5, the global minimum will be taken as a substitute.\n",
    "        if error_rate_list[minIndex] >= 0.5:\n",
    "            minvalue = min(error_rate_list)\n",
    "            minIndex = error_rate_list.index(minvalue)\n",
    "            return minIndex\n",
    "        else:\n",
    "            return minIndex\n",
    "\n",
    "    def calculate_wc_weight(self, error_rate):\n",
    "        \"\"\"[summary]\n",
    "\n",
    "        Args:\n",
    "            error_rate ([float]): [current wc error rate]\n",
    "\n",
    "        Returns:\n",
    "            [float]: [current wc weight]\n",
    "        \"\"\"\n",
    "        wc_weight = 0.5 * math.log((1-error_rate)/error_rate)\n",
    "        return wc_weight\n",
    "    \n",
    "    def calculate_Error_rate(self, labels, pred, sample_weight):\n",
    "        # 计算弱分类器的错误率。\n",
    "        # calculate error rate of weak classifier.\n",
    "        ret = 0\n",
    "        for i in range(len(labels)):\n",
    "            if labels[i] != pred[i]:\n",
    "                ret += sample_weight[i]\n",
    "        return ret\n",
    "\n",
    "    def FindSingleWeakClassifier(self, new_samples_weight, wc_type, selected_error_rate_list_location=[]):\n",
    "        \"\"\"[summary]\n",
    "        the main part of FindSingleWeakClassifier class.\n",
    "        find the best weak classifier.\n",
    "        Args:\n",
    "            new_samples_weight ([list]): [description]\n",
    "            wc_type ([float]): [description]\n",
    "            selected_error_rate_list_location (list, optional): \n",
    "                [exclude selected error rate location.]. Defaults to [].\n",
    "\n",
    "        Returns:\n",
    "            [type]: [description]\n",
    "            temp_theta[location] ([float]): [description]\n",
    "            temp_error_rate[location] ([float]): [description]\n",
    "            temp_prediction ([list]): [description]\n",
    "            temp_wc_weight[location] ([float]): [description]\n",
    "        \"\"\"\n",
    "        location = -1\n",
    "        temp_theta = []\n",
    "        temp_error_rate = []\n",
    "        temp_prediction = []\n",
    "        temp_wc_weight = []\n",
    "        \n",
    "        # 按照输入的弱分类器类型，生成指定的样本。\n",
    "        # Generate the specified sample according to the input weak classifier type.\n",
    "        self.according_to_wctype_proecess_data(wc_type)\n",
    "        # print(\"xxx------------\")\n",
    "        # print(new_samples_weight)\n",
    "        for i in range(self.step_number):\n",
    "            # 按照步长来训练弱分类器。\n",
    "            # The weak classifier is trained according to the step size.\n",
    "            theta = i * self.StepSize\n",
    "            temp_theta.append(theta)\n",
    "            temp_prediction = self.predictSamples(theta)\n",
    "            \n",
    "            single_error_rate = self.calculate_Error_rate(self.labels, temp_prediction, new_samples_weight)\n",
    "            temp_error_rate.append(single_error_rate)\n",
    "            temp_wc_weight.append(self.calculate_wc_weight(single_error_rate))\n",
    "            \n",
    "            # if single_error_rate >= 0.5:\n",
    "            #     location = i\n",
    "            #     break\n",
    "        print(\"---1---\")\n",
    "        # print(selected_error_rate_list_location)\n",
    "        # print(temp_error_rate)\n",
    "        # print(temp_theta)\n",
    "        \n",
    "        minIndex= self.choose_error_rate(selected_error_rate_list_location, temp_error_rate)\n",
    "        # location = temp_error_rate.index(min(temp_error_rate))\n",
    "        location = minIndex\n",
    "        print(location)\n",
    "        # print(location)\n",
    "        # print(temp_error_rate[location])\n",
    "        # print(temp_theta[location])\n",
    "        print(\"---2---\")\n",
    "        # temp_error_rate[location]\n",
    "        return temp_theta[location], location, temp_prediction, temp_wc_weight[location]\n"
   ]
  },
  {
   "cell_type": "code",
   "execution_count": 10,
   "metadata": {},
   "outputs": [
    {
     "name": "stdout",
     "output_type": "stream",
     "text": [
      "---1---\n",
      "0.30000000000000004\n",
      "5\n",
      "---2---\n",
      "theta = 113.5\n"
     ]
    },
    {
     "data": {
      "image/png": "[encoded data removed]",
      "text/plain": [
       "<Figure size 432x288 with 1 Axes>"
      ]
     },
     "metadata": {
      "needs_background": "light"
     },
     "output_type": "display_data"
    }
   ],
   "source": [
    "# 测试单个弱分类器的生成函数。\n",
    "# test single generate weak classifier function.\n",
    "samples_weight = [(1.0/(Samples_data.shape[0])) for i in range(Samples_data.shape[0])]\n",
    "\n",
    "getWCClass = FindSingleWeakClassifierClass(WeakClassifier, Samples_data, Labels_data)\n",
    "theta, error_rate, predictionresult, wc_weight = getWCClass.FindSingleWeakClassifier(samples_weight, 'x')\n",
    "print(\"theta = \" + str(theta))\n",
    "displaySingleWeakClassifier('x', SampleData_pd, theta, error_rate)"
   ]
  },
  {
   "cell_type": "code",
   "execution_count": 11,
   "metadata": {},
   "outputs": [
    {
     "name": "stdout",
     "output_type": "stream",
     "text": [
      "---1---\n",
      "0.30000000000000004\n",
      "4\n",
      "---2---\n",
      "97.6\n"
     ]
    },
    {
     "data": {
      "image/png": "[encoded data removed]",
      "text/plain": [
       "<Figure size 432x288 with 1 Axes>"
      ]
     },
     "metadata": {
      "needs_background": "light"
     },
     "output_type": "display_data"
    },
    {
     "name": "stdout",
     "output_type": "stream",
     "text": [
      "-----------1---------\n",
      "[0.1, 0.1, 0.1, 0.1, 0.1, 0.1, 0.1, 0.1, 0.1, 0.1]\n",
      "-----------2---------\n",
      "0.4236489301936017\n",
      "-----------3---------\n",
      "0    1\n",
      "1    1\n",
      "2   -1\n",
      "3   -1\n",
      "4    1\n",
      "5    1\n",
      "6   -1\n",
      "7    1\n",
      "8   -1\n",
      "9   -1\n",
      "Name: label, dtype: int64\n",
      "-----------4---------\n",
      "[1, -1, -1, 1, 1, 1, 1, 1, 1, -1]\n",
      "-----------5---------\n",
      "[0.06521739 0.15217391 0.06521739 0.15217391 0.06521739 0.06521739\n",
      " 0.15217391 0.06521739 0.15217391 0.06521739]\n"
     ]
    }
   ],
   "source": [
    "# 测试找到的弱分类函数是否正确。\n",
    "# test find weak classifier function.\n",
    "wc_weight_list = []\n",
    "\n",
    "samples_weight = [(1.0/(Samples_data.shape[0])) for i in range(Samples_data.shape[0])]\n",
    "\n",
    "getWCClass = FindSingleWeakClassifierClass(WeakClassifier, Samples_data, Labels_data)\n",
    "theta, error_rate, predictionresult, wc_weight = getWCClass.FindSingleWeakClassifier(samples_weight, 'y')\n",
    "print(theta)\n",
    "displaySingleWeakClassifier('x', SampleData_pd, theta, error_rate)\n",
    "\n",
    "print(\"-----------1---------\")\n",
    "print(samples_weight)\n",
    "print(\"-----------2---------\")\n",
    "print(wc_weight)\n",
    "print(\"-----------3---------\")\n",
    "print(Labels_data)\n",
    "print(\"-----------4---------\")\n",
    "print(predictionresult)\n",
    "print(\"-----------5---------\")\n",
    "new_samples_weight = update_sample_weight(samples_weight, wc_weight, Labels_data, predictionresult)\n",
    "print(new_samples_weight)"
   ]
  },
  {
   "cell_type": "markdown",
   "metadata": {},
   "source": [
    "# 3. implement final adaboost "
   ]
  },
  {
   "cell_type": "code",
   "execution_count": 12,
   "metadata": {},
   "outputs": [],
   "source": [
    "# display multiple weak classifier\n",
    "def displayMultipleWC(theta_list, wc_weight_list, wc_type_list, error_rate_list, samples, offset=10):\n",
    "    i = 0\n",
    "    plt.title(\"AdaBoost Multiple Weak Classifier\")\n",
    "    plt.xlabel('X')\n",
    "    plt.ylabel('Y')\n",
    "\n",
    "    for index, row in samples.iterrows():\n",
    "        if row['label'] == 1:\n",
    "            plt.scatter(row['x'], row['y'], marker='+', color='red')\n",
    "        else:\n",
    "            plt.scatter(row['x'], row['y'], marker='_', color='blue')\n",
    "    for i in range(len(theta_list)):\n",
    "        if wc_type_list[i] == 'x':\n",
    "            plt.axvline(theta_list[i])\n",
    "            y_mean = samples['y'].mean()\n",
    "            plt.text(theta_list[i] + offset/2, y_mean, \n",
    "                     '[%d] error rate =%0.2f\\n theta =%0.2f'%(i, error_rate_list[i], theta_list[i]))\n",
    "        else:\n",
    "            plt.axhline(theta_list[i])\n",
    "            x_mean = samples['x'].mean()\n",
    "            # 加了一个偏移量，避免显示的字和线条重合在一起。\n",
    "            # add a offset, In order to avoid overlapping the displayed content and lines.\n",
    "            plt.text(x_mean, theta_list[i] + offset, \n",
    "                     '[%d] error rate =%0.2f\\n theta =%0.2f'%(i, error_rate_list[i], theta_list[i]))\n",
    "    \n",
    "    output_info = \"[weak classifier weight] = \"\n",
    "    i = 0\n",
    "    for wc_weight in wc_weight_list:\n",
    "        if i+1 == len(wc_weight_list):\n",
    "            output_info += \"(\" + str(wc_weight) + \")\"\n",
    "        else:\n",
    "            output_info += \"(\" + str(wc_weight) + \")\" + \" + \"\n",
    "        i += 1\n",
    "    print(output_info)\n",
    "    plt.savefig(\"./pictures/multipleWeakclassifier.jpg\")\n",
    "    plt.show()"
   ]
  },
  {
   "cell_type": "code",
   "execution_count": 13,
   "metadata": {},
   "outputs": [],
   "source": [
    "class FinalClassifierClass:\n",
    "    def __init__(self, Samples_data, Labels_data, weak_classifier_count = 3):\n",
    "        self.samples = Samples_data\n",
    "        self.labels = Labels_data\n",
    "        self.theta_list = []\n",
    "        self.wc_weight_list = []\n",
    "        self.wc_type_list = []\n",
    "        self.error_rate_list = []\n",
    "        self.weak_classifier_count = weak_classifier_count\n",
    "        pass\n",
    "    \n",
    "    def final_classifier(self, x, y):\n",
    "        realSum = 0\n",
    "        classification = 0\n",
    "        temp_hxMa = 0\n",
    "        for i in range(self.weak_classifier_count):\n",
    "            if self.wc_type_list[i] == 'x':\n",
    "                temp_hxMa = self.wc_weight_list[i] * WeakClassifier(x, self.theta_list[i])\n",
    "            else:\n",
    "                temp_hxMa = self.wc_weight_list[i] * WeakClassifier(y, self.theta_list[i])\n",
    "            realSum += temp_hxMa\n",
    "        print(\"The classifier f(x) value is: \" + str(realSum))\n",
    "        classification = self.sgn(realSum)\n",
    "        return classification\n",
    "\n",
    "    def sgn(self, input):\n",
    "        if input >= 0 :\n",
    "            return 1\n",
    "        else:\n",
    "            return -1\n",
    "\n",
    "    def train_fc(self):\n",
    "        \"\"\"[summary]\n",
    "        the real return has three result. first is self.wc_type_list, second is self.theta_list, \n",
    "        third is self.wc_weight_list.  they are all used to final_classifier.\n",
    "        \"\"\"\n",
    "        theta = 0\n",
    "        error_rate_location = 0\n",
    "        selected_error_rate_list_location = []\n",
    "        # init_samples_weight = [(1.0/(self.samples.shape[0])) for i in range(self.samples.shape[0])]\n",
    "        getWCClass = FindSingleWeakClassifierClass(WeakClassifier, self.samples, self.labels)\n",
    "        # 将样本的权重初始化。\n",
    "        # initialize sample weights.\n",
    "        new_samples_weight = [(1.0/(self.samples.shape[0])) for i in range(self.samples.shape[0])]\n",
    "        for i in range(self.weak_classifier_count):\n",
    "            # 随机决定生成的弱分类器类型。\n",
    "            # randomly generate weak classifier type.\n",
    "            if random.randint(0,1) == 0:\n",
    "                classifierType = 'x'\n",
    "            else:\n",
    "                classifierType = 'y'\n",
    "            \n",
    "            # test type.\n",
    "            # if i == 0 :\n",
    "            #     classifierType = 'x'\n",
    "            # elif i == 1:\n",
    "            #     classifierType = 'x'\n",
    "            # else:\n",
    "            #     classifierType = 'y'\n",
    "            \n",
    "            self.wc_type_list.append(classifierType)\n",
    "            # print(\"---ct---:\" + classifierType)\n",
    "            # print(new_samples_weight)\n",
    "            # print(sum(new_samples_weight))\n",
    "            theta, error_rate_location, predictionresult, wc_weight = \\\n",
    "                                    getWCClass.FindSingleWeakClassifier(new_samples_weight,\n",
    "                                                                        classifierType, \n",
    "                                                                        selected_error_rate_list_location)\n",
    "            new_samples_weight = update_sample_weight(samples_weight, wc_weight, \n",
    "                                                        self.labels, predictionresult)\n",
    "            # print(predictionresult)\n",
    "            # print((self.labels).to_list())\n",
    "            selected_error_rate_list_location.append(error_rate_location)\n",
    "            self.theta_list.append(theta)\n",
    "            self.wc_weight_list.append(wc_weight)\n",
    "            self.error_rate_list.append(error_rate)\n",
    "        # print(len(self.wc_type_list), len(self.theta_list), len(self.wc_weight_list))"
   ]
  },
  {
   "cell_type": "code",
   "execution_count": 14,
   "metadata": {},
   "outputs": [
    {
     "name": "stdout",
     "output_type": "stream",
     "text": [
      "---1---\n",
      "0.30000000000000004\n",
      "5\n",
      "---2---\n",
      "---1---\n",
      "0.19565217391304351\n",
      "4\n",
      "---2---\n",
      "---1---\n",
      "0.3168316831683169\n",
      "2\n",
      "---2---\n",
      "The classifier f(x) value is: -1.5146808987463705\n",
      "classifier type is :-1\n"
     ]
    }
   ],
   "source": [
    "\n",
    "weak_classifier_count = 3\n",
    "FCC = FinalClassifierClass(Samples_data, Labels_data, weak_classifier_count)\n",
    "FCC.train_fc()\n",
    "sampleType = FCC.final_classifier(147, 131)\n",
    "print(\"classifier type is :\" + str(sampleType))"
   ]
  },
  {
   "cell_type": "code",
   "execution_count": 15,
   "metadata": {},
   "outputs": [
    {
     "name": "stdout",
     "output_type": "stream",
     "text": [
      "The classifier f(x) value is: -0.10098756343836551\n",
      "classifier type is :-1\n"
     ]
    }
   ],
   "source": [
    "sampleType = FCC.final_classifier(257, 83)\n",
    "print(\"classifier type is :\" + str(sampleType))"
   ]
  },
  {
   "cell_type": "code",
   "execution_count": 16,
   "metadata": {},
   "outputs": [
    {
     "name": "stdout",
     "output_type": "stream",
     "text": [
      "The classifier f(x) value is: -0.667383038359167\n",
      "classifier type is :-1\n"
     ]
    }
   ],
   "source": [
    "sampleType = FCC.final_classifier(80, 144)\n",
    "print(\"classifier type is :\" + str(sampleType))"
   ]
  },
  {
   "cell_type": "code",
   "execution_count": 17,
   "metadata": {},
   "outputs": [
    {
     "name": "stdout",
     "output_type": "stream",
     "text": [
      "[weak classifier weight] = (0.4236489301936017) + (0.7068466676540025) + (0.3841853008987663)\n"
     ]
    },
    {
     "data": {
      "image/png": "[encoded data removed]",
      "text/plain": [
       "<Figure size 432x288 with 1 Axes>"
      ]
     },
     "metadata": {
      "needs_background": "light"
     },
     "output_type": "display_data"
    }
   ],
   "source": [
    "displayMultipleWC(FCC.theta_list, FCC.wc_weight_list, FCC.wc_type_list, FCC.error_rate_list, SampleData_pd)"
   ]
  }
 ],
 "metadata": {
  "interpreter": {
   "hash": "d94ea807e9dd88dec85d6135010093db08445b4f78f2386ac1d177de969ce657"
  },
  "kernelspec": {
   "display_name": "Python 3.7.9 64-bit",
   "name": "python3"
  },
  "language_info": {
   "codemirror_mode": {
    "name": "ipython",
    "version": 3
   },
   "file_extension": ".py",
   "mimetype": "text/x-python",
   "name": "python",
   "nbconvert_exporter": "python",
   "pygments_lexer": "ipython3",
   "version": "3.7.9"
  },
  "orig_nbformat": 4
 },
 "nbformat": 4,
 "nbformat_minor": 2
}
