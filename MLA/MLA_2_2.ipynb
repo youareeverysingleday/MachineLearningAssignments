{
 "cells": [
  {
   "cell_type": "markdown",
   "metadata": {},
   "source": [
    "# 1. Design a NIN network"
   ]
  },
  {
   "cell_type": "code",
   "execution_count": null,
   "metadata": {},
   "outputs": [],
   "source": [
    "import numpy as np\n",
    "# import pandas as pd\n",
    "# import tensorflow as tf"
   ]
  },
  {
   "cell_type": "markdown",
   "metadata": {},
   "source": [
    "# 思路\n",
    "1. 将输入和卷积核输入。\n",
    "2. 通过输入确定数据的维度。\n",
    "3. 然后将"
   ]
  },
  {
   "cell_type": "code",
   "execution_count": null,
   "metadata": {},
   "outputs": [],
   "source": [
    "# 使用tensorflow的实现。\n",
    "import tensorflow as tf\n",
    "from tensorflow.keras import layers\n",
    "input = np.arange(512*512*32, dtype=float).reshape(512, 512, 32)\n",
    "# [height, width, in_channel, out_channel]。\n",
    "# 对于filter的参数，可以理解为：[卷积核的高，卷积核的宽，输入图像的通道数，卷积核的个数]\n",
    "filter = [5, 5, 32, 64]\n",
    "output = np.arange(128*128*64, dtype=float).reshape(128, 128, 64)\n",
    "# [y方向的步长, x方向的步长]\n",
    "# 注意这是经过翻转的。\n",
    "strides = [1, 1]\n",
    "padding = \"SAME\"\n",
    "\n",
    "\n",
    "model = tf.keras.models.Sequential()\n",
    "model.add(layers.Conv2D())\n",
    "model.add(layers.Dense(units=32, activation='relu'))\n",
    "model.add(layers.Dense(units=32, activation='relu'))\n",
    "\n"
   ]
  },
  {
   "cell_type": "code",
   "execution_count": 4,
   "metadata": {},
   "outputs": [
    {
     "name": "stdout",
     "output_type": "stream",
     "text": [
      "tf.Tensor(6.0, shape=(), dtype=float32)\n"
     ]
    }
   ],
   "source": [
    "import tensorflow as tf\n",
    "\n",
    "x = tf.constant(3.0)\n",
    "with tf.GradientTape() as g:\n",
    "    g.watch(x)\n",
    "    y = x * x\n",
    "dy_dx = g.gradient(y, x) \n",
    "print(dy_dx)"
   ]
  },
  {
   "cell_type": "code",
   "execution_count": null,
   "metadata": {},
   "outputs": [],
   "source": [
    "class ImplementNIN:\n",
    "    def __init__(self, input, kernel, output, stride=1):\n",
    "        self.input = input\n",
    "        self.kernel = kernel\n",
    "        self.stride = stride\n",
    "        self.input_L = input.shape[0]\n",
    "        self.input_W = input.shape[1]\n",
    "        self.input_H = input.shape[2]\n",
    "        \n",
    "        self.kernel_L = kernel[0]\n",
    "        self.kernel_H = kernel[1]\n",
    "        \n",
    "        self.output_L = output[0]\n",
    "        self.output_W = output[1]\n",
    "        self.output_H = output[2]\n",
    "        pass\n",
    "    \n",
    "    def InitNetworkArchitecture(self):\n",
    "        for r in 10:\n",
    "            for c in 10:\n",
    "                "
   ]
  },
  {
   "cell_type": "markdown",
   "metadata": {},
   "source": []
  }
 ],
 "metadata": {
  "interpreter": {
   "hash": "d94ea807e9dd88dec85d6135010093db08445b4f78f2386ac1d177de969ce657"
  },
  "kernelspec": {
   "display_name": "Python 3.7.9 64-bit",
   "language": "python",
   "name": "python3"
  },
  "language_info": {
   "codemirror_mode": {
    "name": "ipython",
    "version": 3
   },
   "file_extension": ".py",
   "mimetype": "text/x-python",
   "name": "python",
   "nbconvert_exporter": "python",
   "pygments_lexer": "ipython3",
   "version": "3.7.9"
  },
  "orig_nbformat": 4
 },
 "nbformat": 4,
 "nbformat_minor": 2
}
