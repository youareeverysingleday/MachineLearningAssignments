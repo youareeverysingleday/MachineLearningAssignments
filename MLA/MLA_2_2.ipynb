{
 "cells": [
  {
   "cell_type": "markdown",
   "metadata": {},
   "source": [
    "# 1. Design a NIN network"
   ]
  },
  {
   "cell_type": "code",
   "execution_count": null,
   "metadata": {},
   "outputs": [],
   "source": [
    "import numpy as np\n",
    "# import pandas as pd\n",
    "# import tensorflow as tf"
   ]
  },
  {
   "cell_type": "code",
   "execution_count": null,
   "metadata": {},
   "outputs": [],
   "source": [
    "class ImplementNIN:\n",
    "    def __init__(self, input, kernel, stride=1):\n",
    "        self.input = input\n",
    "        self.kernel = kernel\n",
    "        self.stride = stride\n",
    "        self.input_L = input.shape[0]\n",
    "        self.input_W = input.shape[1]\n",
    "        self.input_H = input.shape[2]\n",
    "        self.kernel_L = kernel[0]\n",
    "        self.kernel_H = kernel[1]\n",
    "        pass\n",
    "    \n",
    "    def InitNetworkArchitecture(self):\n",
    "        pass"
   ]
  }
 ],
 "metadata": {
  "language_info": {
   "name": "python"
  },
  "orig_nbformat": 4
 },
 "nbformat": 4,
 "nbformat_minor": 2
}
