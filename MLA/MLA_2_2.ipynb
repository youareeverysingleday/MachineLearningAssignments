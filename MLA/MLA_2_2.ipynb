{
 "cells": [
  {
   "cell_type": "markdown",
   "metadata": {},
   "source": [
    "# 1. Design a NIN network"
   ]
  },
  {
   "cell_type": "code",
   "execution_count": 2,
   "metadata": {},
   "outputs": [],
   "source": [
    "import numpy as np"
   ]
  },
  {
   "cell_type": "markdown",
   "metadata": {},
   "source": [
    "# 思路\n",
    "1. 确定输入的维度。\n",
    "2. 确定卷积的形状。\n",
    "3. 确定1*1的卷积。\n",
    "4. 池化。\n",
    "5. 输出。"
   ]
  },
  {
   "cell_type": "code",
   "execution_count": 8,
   "metadata": {},
   "outputs": [
    {
     "name": "stdout",
     "output_type": "stream",
     "text": [
      "Model: \"sequential_5\"\n",
      "_________________________________________________________________\n",
      "Layer (type)                 Output Shape              Param #   \n",
      "=================================================================\n",
      "conv2D (Conv2D)              (None, 512, 512, 1028)    823428    \n",
      "_________________________________________________________________\n",
      "Conv1m1_0 (Conv2D)           (None, 512, 512, 1028)    1057812   \n",
      "_________________________________________________________________\n",
      "Conv1m1_1 (Conv2D)           (None, 512, 512, 1028)    1057812   \n",
      "_________________________________________________________________\n",
      "pooling (MaxPooling2D)       (None, 255, 255, 1028)    0         \n",
      "=================================================================\n",
      "Total params: 2,939,052\n",
      "Trainable params: 2,939,052\n",
      "Non-trainable params: 0\n",
      "_________________________________________________________________\n"
     ]
    }
   ],
   "source": [
    "# 使用tensorflow的实现。\n",
    "import tensorflow as tf\n",
    "from tensorflow.keras import layers\n",
    "input = np.arange(512*512*32, dtype=float).reshape(512, 512, 32)\n",
    "output = np.arange(128*128*64, dtype=float).reshape(128, 128, 64)\n",
    "\n",
    "# 输出的通道数\n",
    "input_filters = 1028\n",
    "\n",
    "outputFilters =64\n",
    "# input_dim=115, use_bias=True,\n",
    "model = tf.keras.models.Sequential()\n",
    "model.add(layers.InputLayer(input_shape=(512, 512, 32), name=\"input\", dtype=\"float32\"))\n",
    "\n",
    "model.add(layers.Conv2D(1028, kernel_size=5,\n",
    "                        strides=1, activation=\"relu\", padding=\"same\", name=\"conv2D\"))\n",
    "# 最后的全连接层并不是通过dense来实现的，而是通过1*1的卷积来实现的。这里有点没有想明白。\n",
    "# 难道不是通过一次1*1的卷积之后，后面的才是2层全连接层吗？\n",
    "# model.add(layers.Dense(2048, activation=\"relu\"))\n",
    "# model.add(layers.Dense(2048, activation=\"relu\"))\n",
    "model.add(layers.Conv2D(1028, kernel_size=1,\n",
    "                        strides=1, activation=\"relu\", padding=\"same\", name=\"Conv1m1_0\"))\n",
    "model.add(layers.Conv2D(1028, kernel_size=1,\n",
    "                        strides=1, activation=\"relu\", padding=\"same\", name=\"Conv1m1_1\"))\n",
    "# 对每个\n",
    "model.add(layers.MaxPool2D(pool_size=3, strides=2, name=\"pooling\"))\n",
    "\n",
    "# input_shape 这里是指定输入的结构，其中第一个是batch，第二个和第三个是图片的长宽，\n",
    "# 第三个是通道数，如果是RGB那么就是3。\n",
    "# model.build(input_shape=(1, 512, 512, 32))\n",
    "model.summary()"
   ]
  },
  {
   "cell_type": "code",
   "execution_count": 35,
   "metadata": {},
   "outputs": [
    {
     "name": "stdout",
     "output_type": "stream",
     "text": [
      "Model: \"model\"\n",
      "_________________________________________________________________\n",
      "Layer (type)                 Output Shape              Param #   \n",
      "=================================================================\n",
      "input_2 (InputLayer)         [(None, 224, 224, 3)]     0         \n",
      "_________________________________________________________________\n",
      "zero_padding2d_1 (ZeroPaddin (None, 227, 227, 3)       0         \n",
      "_________________________________________________________________\n",
      "conv2d_25 (Conv2D)           (None, 55, 55, 48)        17472     \n",
      "_________________________________________________________________\n",
      "max_pooling2d_3 (MaxPooling2 (None, 27, 27, 48)        0         \n",
      "_________________________________________________________________\n",
      "conv2d_26 (Conv2D)           (None, 27, 27, 128)       153728    \n",
      "_________________________________________________________________\n",
      "max_pooling2d_4 (MaxPooling2 (None, 13, 13, 128)       0         \n",
      "_________________________________________________________________\n",
      "conv2d_27 (Conv2D)           (None, 13, 13, 192)       221376    \n",
      "_________________________________________________________________\n",
      "conv2d_28 (Conv2D)           (None, 13, 13, 192)       331968    \n",
      "_________________________________________________________________\n",
      "conv2d_29 (Conv2D)           (None, 13, 13, 128)       221312    \n",
      "_________________________________________________________________\n",
      "max_pooling2d_5 (MaxPooling2 (None, 6, 6, 128)         0         \n",
      "_________________________________________________________________\n",
      "flatten_1 (Flatten)          (None, 4608)              0         \n",
      "_________________________________________________________________\n",
      "dropout_3 (Dropout)          (None, 4608)              0         \n",
      "_________________________________________________________________\n",
      "dense_76 (Dense)             (None, 2048)              9439232   \n",
      "_________________________________________________________________\n",
      "dropout_4 (Dropout)          (None, 2048)              0         \n",
      "_________________________________________________________________\n",
      "dense_77 (Dense)             (None, 2048)              4196352   \n",
      "_________________________________________________________________\n",
      "dense_78 (Dense)             (None, 1000)              2049000   \n",
      "_________________________________________________________________\n",
      "softmax (Softmax)            (None, 1000)              0         \n",
      "=================================================================\n",
      "Total params: 16,630,440\n",
      "Trainable params: 16,630,440\n",
      "Non-trainable params: 0\n",
      "_________________________________________________________________\n"
     ]
    }
   ],
   "source": [
    "# 参考AlexNet实现。\n",
    "from tensorflow.keras import layers, models, Model, Sequential\n",
    "im_height=224\n",
    "im_width=224\n",
    "class_num=1000\n",
    "input_image = layers.Input(shape=(im_height, im_width, 3), dtype=\"float32\")  # output(None, 224, 224, 3)\n",
    "x = layers.ZeroPadding2D(((1, 2), (1, 2)))(input_image)   #valid和same都不能满足输出，因此需要手动padding处理 output(None, 227, 227, 3)\n",
    "x = layers.Conv2D(48, kernel_size=11, strides=4, activation=\"relu\")(x)       # output(None, 55, 55, 48)\n",
    "x = layers.MaxPool2D(pool_size=3, strides=2)(x) #padding默认等于valid  # output(None, 27, 27, 48)\n",
    "x = layers.Conv2D(128, kernel_size=5, padding=\"same\", activation=\"relu\")(x)  # output(None, 27, 27, 128)\n",
    "x = layers.MaxPool2D(pool_size=3, strides=2)(x)                              # output(None, 13, 13, 128)\n",
    "x = layers.Conv2D(192, kernel_size=3, padding=\"same\", activation=\"relu\")(x)  # output(None, 13, 13, 192)\n",
    "x = layers.Conv2D(192, kernel_size=3, padding=\"same\", activation=\"relu\")(x)  # output(None, 13, 13, 192)\n",
    "x = layers.Conv2D(128, kernel_size=3, padding=\"same\", activation=\"relu\")(x)  # output(None, 13, 13, 128)\n",
    "x = layers.MaxPool2D(pool_size=3, strides=2)(x)                              # output(None, 6, 6, 128)\n",
    "\n",
    "x = layers.Flatten()(x)                         # output(None, 6*6*128=4608)\n",
    "x = layers.Dropout(0.2)(x)\n",
    "x = layers.Dense(2048, activation=\"relu\")(x)    # output(None, 2048)\n",
    "x = layers.Dropout(0.2)(x)\n",
    "x = layers.Dense(2048, activation=\"relu\")(x)    # output(None, 2048)\n",
    "x = layers.Dense(class_num)(x)                  # output(None, 5)\n",
    "\n",
    "predict = layers.Softmax()(x)#将输出转化成为一个概率分布\n",
    "\n",
    "model = models.Model(inputs=input_image, outputs=predict)\n",
    "model.summary()\n",
    "# predict = layers.Softmax()(x)#将输出转化成为一个概率分布\n",
    "\n",
    "# model = models.Model(inputs=input_image, outputs=predict)\n"
   ]
  },
  {
   "cell_type": "code",
   "execution_count": 4,
   "metadata": {},
   "outputs": [
    {
     "name": "stdout",
     "output_type": "stream",
     "text": [
      "tf.Tensor(6.0, shape=(), dtype=float32)\n"
     ]
    }
   ],
   "source": [
    "# 梯度使用\n",
    "import tensorflow as tf\n",
    "\n",
    "x = tf.constant(3.0)\n",
    "with tf.GradientTape() as g:\n",
    "    g.watch(x)\n",
    "    y = x * x\n",
    "dy_dx = g.gradient(y, x) \n",
    "print(dy_dx)"
   ]
  }
 ],
 "metadata": {
  "interpreter": {
   "hash": "d94ea807e9dd88dec85d6135010093db08445b4f78f2386ac1d177de969ce657"
  },
  "kernelspec": {
   "display_name": "Python 3.7.9 64-bit",
   "language": "python",
   "name": "python3"
  },
  "language_info": {
   "codemirror_mode": {
    "name": "ipython",
    "version": 3
   },
   "file_extension": ".py",
   "mimetype": "text/x-python",
   "name": "python",
   "nbconvert_exporter": "python",
   "pygments_lexer": "ipython3",
   "version": "3.7.9"
  },
  "orig_nbformat": 4
 },
 "nbformat": 4,
 "nbformat_minor": 2
}
