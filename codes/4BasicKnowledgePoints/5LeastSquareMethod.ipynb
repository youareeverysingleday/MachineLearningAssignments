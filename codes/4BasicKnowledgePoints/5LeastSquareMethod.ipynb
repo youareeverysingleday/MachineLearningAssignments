{
 "cells": [
  {
   "cell_type": "markdown",
   "metadata": {},
   "source": [
    "# implement linear least square method and nonlinear least square method\n",
    "\n",
    "1. 只完成多项式拟合\n",
    "2. 使用sympy参考<https://blog.csdn.net/cj151525/article/details/95756847>\n",
    "3. 最小二乘法的核心思想：\n",
    "   1. 目标是已知结果和输入数据时，求待定系数。\n",
    "   2. 定义距离为多变量的平方和。\n",
    "   3. 目标函数是期望距离最小化。\n",
    "   4. 求得所有的待定系数。\n",
    "4. 基本思想：\n",
    "   1. 泰勒展开。\n",
    "   2. 注意这里是没有添加约束条件的。添加约束条件的需要使用拉格朗日插值法。"
   ]
  },
  {
   "cell_type": "markdown",
   "metadata": {},
   "source": [
    "## 1. 线性最小二乘法"
   ]
  },
  {
   "cell_type": "code",
   "execution_count": 1,
   "metadata": {},
   "outputs": [],
   "source": [
    "import numpy as np\n",
    "import pandas as pd\n",
    "import matplotlib.pyplot as plt\n",
    "import random\n",
    "# 用于计算导数、偏导数。\n",
    "import sympy"
   ]
  },
  {
   "cell_type": "code",
   "execution_count": 2,
   "metadata": {},
   "outputs": [
    {
     "data": {
      "text/html": [
       "<div>\n",
       "<style scoped>\n",
       "    .dataframe tbody tr th:only-of-type {\n",
       "        vertical-align: middle;\n",
       "    }\n",
       "\n",
       "    .dataframe tbody tr th {\n",
       "        vertical-align: top;\n",
       "    }\n",
       "\n",
       "    .dataframe thead th {\n",
       "        text-align: right;\n",
       "    }\n",
       "</style>\n",
       "<table border=\"1\" class=\"dataframe\">\n",
       "  <thead>\n",
       "    <tr style=\"text-align: right;\">\n",
       "      <th></th>\n",
       "      <th>x</th>\n",
       "      <th>y</th>\n",
       "    </tr>\n",
       "  </thead>\n",
       "  <tbody>\n",
       "    <tr>\n",
       "      <th>0</th>\n",
       "      <td>-17</td>\n",
       "      <td>-15</td>\n",
       "    </tr>\n",
       "    <tr>\n",
       "      <th>1</th>\n",
       "      <td>-9</td>\n",
       "      <td>9</td>\n",
       "    </tr>\n",
       "    <tr>\n",
       "      <th>2</th>\n",
       "      <td>5</td>\n",
       "      <td>17</td>\n",
       "    </tr>\n",
       "    <tr>\n",
       "      <th>3</th>\n",
       "      <td>8</td>\n",
       "      <td>-1</td>\n",
       "    </tr>\n",
       "    <tr>\n",
       "      <th>4</th>\n",
       "      <td>6</td>\n",
       "      <td>1</td>\n",
       "    </tr>\n",
       "  </tbody>\n",
       "</table>\n",
       "</div>"
      ],
      "text/plain": [
       "    x   y\n",
       "0 -17 -15\n",
       "1  -9   9\n",
       "2   5  17\n",
       "3   8  -1\n",
       "4   6   1"
      ]
     },
     "execution_count": 2,
     "metadata": {},
     "output_type": "execute_result"
    }
   ],
   "source": [
    "# 生成随机的是二维平面数据。\n",
    "UpperLimit = 20\n",
    "LowerLimit = -20\n",
    "SamplesNumber = 5\n",
    "\n",
    "samples = [[random.randint(LowerLimit, UpperLimit) for j in range(1, 3)] for i in range(0, SamplesNumber)]\n",
    "samples_pd = pd.DataFrame(samples, columns=['x', 'y'])\n",
    "samples_pd"
   ]
  },
  {
   "cell_type": "code",
   "execution_count": 3,
   "metadata": {},
   "outputs": [
    {
     "data": {
      "image/png": "[encoded data removed]",
      "text/plain": [
       "<Figure size 432x288 with 1 Axes>"
      ]
     },
     "metadata": {
      "needs_background": "light"
     },
     "output_type": "display_data"
    }
   ],
   "source": [
    "# display data\n",
    "plt.title(\"linear least square method samples\")\n",
    "plt.xlabel('X')\n",
    "plt.ylabel('Y')\n",
    "\n",
    "for index, row in samples_pd.iterrows():\n",
    "    plt.scatter(row['x'], row['y'], marker='+', color='red')\n",
    "# plt.savefig(\"../../pictures/LinearLeastSquareMethodSamples.jpg\")\n",
    "plt.grid()\n",
    "plt.show()"
   ]
  },
  {
   "cell_type": "code",
   "execution_count": 4,
   "metadata": {},
   "outputs": [
    {
     "data": {
      "text/html": [
       "<div>\n",
       "<style scoped>\n",
       "    .dataframe tbody tr th:only-of-type {\n",
       "        vertical-align: middle;\n",
       "    }\n",
       "\n",
       "    .dataframe tbody tr th {\n",
       "        vertical-align: top;\n",
       "    }\n",
       "\n",
       "    .dataframe thead th {\n",
       "        text-align: right;\n",
       "    }\n",
       "</style>\n",
       "<table border=\"1\" class=\"dataframe\">\n",
       "  <thead>\n",
       "    <tr style=\"text-align: right;\">\n",
       "      <th></th>\n",
       "      <th>x</th>\n",
       "      <th>y</th>\n",
       "      <th>y_hat</th>\n",
       "      <th>LinearLoss</th>\n",
       "      <th>NonlinearLoss</th>\n",
       "    </tr>\n",
       "  </thead>\n",
       "  <tbody>\n",
       "    <tr>\n",
       "      <th>0</th>\n",
       "      <td>-17</td>\n",
       "      <td>-15</td>\n",
       "      <td>None</td>\n",
       "      <td>None</td>\n",
       "      <td>None</td>\n",
       "    </tr>\n",
       "    <tr>\n",
       "      <th>1</th>\n",
       "      <td>-9</td>\n",
       "      <td>9</td>\n",
       "      <td>None</td>\n",
       "      <td>None</td>\n",
       "      <td>None</td>\n",
       "    </tr>\n",
       "    <tr>\n",
       "      <th>2</th>\n",
       "      <td>5</td>\n",
       "      <td>17</td>\n",
       "      <td>None</td>\n",
       "      <td>None</td>\n",
       "      <td>None</td>\n",
       "    </tr>\n",
       "    <tr>\n",
       "      <th>3</th>\n",
       "      <td>8</td>\n",
       "      <td>-1</td>\n",
       "      <td>None</td>\n",
       "      <td>None</td>\n",
       "      <td>None</td>\n",
       "    </tr>\n",
       "    <tr>\n",
       "      <th>4</th>\n",
       "      <td>6</td>\n",
       "      <td>1</td>\n",
       "      <td>None</td>\n",
       "      <td>None</td>\n",
       "      <td>None</td>\n",
       "    </tr>\n",
       "  </tbody>\n",
       "</table>\n",
       "</div>"
      ],
      "text/plain": [
       "    x   y y_hat LinearLoss NonlinearLoss\n",
       "0 -17 -15  None       None          None\n",
       "1  -9   9  None       None          None\n",
       "2   5  17  None       None          None\n",
       "3   8  -1  None       None          None\n",
       "4   6   1  None       None          None"
      ]
     },
     "execution_count": 4,
     "metadata": {},
     "output_type": "execute_result"
    }
   ],
   "source": [
    "# 添加一列为y_hat。最后的时候没有使用这一列。\n",
    "samples_pd['y_hat'] = None\n",
    "\n",
    "# 添加一列为线性损失函数列。\n",
    "samples_pd['LinearLoss'] = None\n",
    "# 添加一列为非线性损失函数列。\n",
    "samples_pd['NonlinearLoss'] = None\n",
    "samples_pd"
   ]
  },
  {
   "cell_type": "code",
   "execution_count": 5,
   "metadata": {},
   "outputs": [
    {
     "name": "stdout",
     "output_type": "stream",
     "text": [
      "a*x + b\n",
      "(a*x + b - yh)**2\n"
     ]
    }
   ],
   "source": [
    "# 使用sympy来定义目标函数，也就是损失函数。\n",
    "a = sympy.Symbol('a')\n",
    "b = sympy.Symbol('b')\n",
    "x = sympy.Symbol('x')\n",
    "y_linear = sympy.Symbol('yh')\n",
    "y_linear_hat = a*x + b\n",
    "# 最终定义的损失函数。\n",
    "loss_linear = (y_linear_hat - y_linear)**2\n",
    "# y_=sympy.diff(y,x)\n",
    "print(y_linear_hat)\n",
    "print(loss_linear)"
   ]
  },
  {
   "cell_type": "code",
   "execution_count": 6,
   "metadata": {},
   "outputs": [
    {
     "name": "stdout",
     "output_type": "stream",
     "text": [
      "a*x + b\n"
     ]
    }
   ],
   "source": [
    "# 测试对定义的函数赋值。\n",
    "# x=sympy.Symbol('x')\n",
    "fx = a*x + b\n",
    "# 使用evalf函数传值\n",
    "# 注意，当变量被赋值为0之后，显示出来的公式该变量依然在，但实际上不在了。\n",
    "y1 = fx.evalf(subs={x:0, a:2})\n",
    "print(y1)"
   ]
  },
  {
   "cell_type": "code",
   "execution_count": 7,
   "metadata": {},
   "outputs": [
    {
     "data": {
      "text/html": [
       "<div>\n",
       "<style scoped>\n",
       "    .dataframe tbody tr th:only-of-type {\n",
       "        vertical-align: middle;\n",
       "    }\n",
       "\n",
       "    .dataframe tbody tr th {\n",
       "        vertical-align: top;\n",
       "    }\n",
       "\n",
       "    .dataframe thead th {\n",
       "        text-align: right;\n",
       "    }\n",
       "</style>\n",
       "<table border=\"1\" class=\"dataframe\">\n",
       "  <thead>\n",
       "    <tr style=\"text-align: right;\">\n",
       "      <th></th>\n",
       "      <th>x</th>\n",
       "      <th>y</th>\n",
       "      <th>y_hat</th>\n",
       "      <th>LinearLoss</th>\n",
       "      <th>NonlinearLoss</th>\n",
       "    </tr>\n",
       "  </thead>\n",
       "  <tbody>\n",
       "    <tr>\n",
       "      <th>0</th>\n",
       "      <td>-17</td>\n",
       "      <td>-15</td>\n",
       "      <td>None</td>\n",
       "      <td>(-17*a + b + 15)**2</td>\n",
       "      <td>None</td>\n",
       "    </tr>\n",
       "    <tr>\n",
       "      <th>1</th>\n",
       "      <td>-9</td>\n",
       "      <td>9</td>\n",
       "      <td>None</td>\n",
       "      <td>(-9*a + b - 9)**2</td>\n",
       "      <td>None</td>\n",
       "    </tr>\n",
       "    <tr>\n",
       "      <th>2</th>\n",
       "      <td>5</td>\n",
       "      <td>17</td>\n",
       "      <td>None</td>\n",
       "      <td>(5*a + b - 17)**2</td>\n",
       "      <td>None</td>\n",
       "    </tr>\n",
       "    <tr>\n",
       "      <th>3</th>\n",
       "      <td>8</td>\n",
       "      <td>-1</td>\n",
       "      <td>None</td>\n",
       "      <td>(8*a + b + 1)**2</td>\n",
       "      <td>None</td>\n",
       "    </tr>\n",
       "    <tr>\n",
       "      <th>4</th>\n",
       "      <td>6</td>\n",
       "      <td>1</td>\n",
       "      <td>None</td>\n",
       "      <td>(6*a + b - 1)**2</td>\n",
       "      <td>None</td>\n",
       "    </tr>\n",
       "  </tbody>\n",
       "</table>\n",
       "</div>"
      ],
      "text/plain": [
       "    x   y y_hat           LinearLoss NonlinearLoss\n",
       "0 -17 -15  None  (-17*a + b + 15)**2          None\n",
       "1  -9   9  None    (-9*a + b - 9)**2          None\n",
       "2   5  17  None    (5*a + b - 17)**2          None\n",
       "3   8  -1  None     (8*a + b + 1)**2          None\n",
       "4   6   1  None     (6*a + b - 1)**2          None"
      ]
     },
     "execution_count": 7,
     "metadata": {},
     "output_type": "execute_result"
    }
   ],
   "source": [
    "# 定义应用到每一个样本点上的损失函数。\n",
    "def getLinearLoss(sample):\n",
    "    loss = (a * sample['x'] + b - sample['y'])**2\n",
    "    return loss\n",
    "\n",
    "samples_pd['LinearLoss'] = samples_pd.apply(getLinearLoss, axis=1)\n",
    "samples_pd"
   ]
  },
  {
   "cell_type": "code",
   "execution_count": 8,
   "metadata": {},
   "outputs": [
    {
     "data": {
      "text/latex": [
       "$\\displaystyle \\left(- 17 a + b + 15\\right)^{2} + \\left(- 9 a + b - 9\\right)^{2} + \\left(5 a + b - 17\\right)^{2} + \\left(6 a + b - 1\\right)^{2} + \\left(8 a + b + 1\\right)^{2}$"
      ],
      "text/plain": [
       "(-17*a + b + 15)**2 + (-9*a + b - 9)**2 + (5*a + b - 17)**2 + (6*a + b - 1)**2 + (8*a + b + 1)**2"
      ]
     },
     "execution_count": 8,
     "metadata": {},
     "output_type": "execute_result"
    }
   ],
   "source": [
    "# 所有样本损失之和。\n",
    "linear_loss_sum = samples_pd['LinearLoss'].sum() \n",
    "linear_loss_sum"
   ]
  },
  {
   "cell_type": "code",
   "execution_count": 9,
   "metadata": {},
   "outputs": [
    {
     "name": "stdout",
     "output_type": "stream",
     "text": [
      "990*a - 14*b - 514\n",
      "-14*a + 10*b - 22\n"
     ]
    }
   ],
   "source": [
    "# 对不同的变量求偏导数\n",
    "e_a = sympy.diff(linear_loss_sum, a)\n",
    "e_b = sympy.diff(linear_loss_sum, b)\n",
    "print(e_a)\n",
    "print(e_b)"
   ]
  },
  {
   "cell_type": "code",
   "execution_count": 10,
   "metadata": {},
   "outputs": [
    {
     "name": "stdout",
     "output_type": "stream",
     "text": [
      "{a: 681/1213, b: 3622/1213}\n"
     ]
    }
   ],
   "source": [
    "# 对偏导方程组e_a和e_b求齐次解。\n",
    "output = sympy.solve([e_a, e_b], [a, b])\n",
    "print(output)"
   ]
  },
  {
   "cell_type": "code",
   "execution_count": 11,
   "metadata": {},
   "outputs": [
    {
     "name": "stdout",
     "output_type": "stream",
     "text": [
      "<class 'dict'>\n",
      "0.5614179719703215\n"
     ]
    }
   ],
   "source": [
    "# 查看结果是什么类型的。\n",
    "print(type(output))\n",
    "# 转换为浮点型输出。\n",
    "testValue = float(output[a])\n",
    "print(testValue)"
   ]
  },
  {
   "cell_type": "code",
   "execution_count": 12,
   "metadata": {},
   "outputs": [
    {
     "data": {
      "text/plain": [
       "<Figure size 576x360 with 0 Axes>"
      ]
     },
     "metadata": {},
     "output_type": "display_data"
    },
    {
     "data": {
      "image/png": "[encoded data removed]",
      "text/plain": [
       "<Figure size 432x288 with 1 Axes>"
      ]
     },
     "metadata": {
      "needs_background": "light"
     },
     "output_type": "display_data"
    }
   ],
   "source": [
    "# 可视化\n",
    "plt.figure(num=3, figsize=(8, 5))   # figsize的设置长和宽\n",
    "# 从LowerLimit - 2到UpperLimit + 2中取20个数\n",
    "x_s = np.linspace(LowerLimit - 2, UpperLimit + 2, 20)\n",
    "# print(x)\n",
    "y1 = float(output[a])*x_s+float(output[b])\n",
    "# y2 = x_s**2\n",
    "plt.figure()\n",
    "plt.plot(x_s, y1)\n",
    "for index, row in samples_pd.iterrows():\n",
    "    plt.scatter(row['x'], row['y'], marker='+', color='red')\n",
    "\n",
    "plt.grid()\n",
    "plt.savefig(\"../../pictures/LinearLeastSquareMethodResult.jpg\")\n",
    "plt.show()"
   ]
  },
  {
   "cell_type": "markdown",
   "metadata": {},
   "source": [
    "## 2. 非线性最小二乘法"
   ]
  },
  {
   "cell_type": "code",
   "execution_count": 16,
   "metadata": {},
   "outputs": [
    {
     "name": "stdout",
     "output_type": "stream",
     "text": [
      "a*x**3 + b*x**2 + c*x + d\n",
      "(-a*x**3 - b*x**2 - c*x - d + yh)**2\n"
     ]
    }
   ],
   "source": [
    "a = sympy.Symbol('a')\n",
    "b = sympy.Symbol('b')\n",
    "c = sympy.Symbol('c')\n",
    "d = sympy.Symbol('d')\n",
    "x = sympy.Symbol('x')\n",
    "y_nonlinear = sympy.Symbol('yh')\n",
    "y_nonlinear_hat = a*x**3 + b*x**2 + c*x + d\n",
    "\n",
    "# 最终定义的损失函数。\n",
    "loss_nonlinear = (y_nonlinear - y_nonlinear_hat)**2\n",
    "\n",
    "print(y_nonlinear_hat)\n",
    "print(loss_nonlinear)"
   ]
  },
  {
   "cell_type": "code",
   "execution_count": 17,
   "metadata": {},
   "outputs": [
    {
     "name": "stdout",
     "output_type": "stream",
     "text": [
      "(-4913*a + 289*b - 17*c + d + 15)**2 + (-729*a + 81*b - 9*c + d - 9)**2 + (125*a + 25*b + 5*c + d - 17)**2 + (216*a + 36*b + 6*c + d - 1)**2 + (512*a + 64*b + 8*c + d + 1)**2\n"
     ]
    }
   ],
   "source": [
    "# 定义应用到每一个样本点上的损失函数。\n",
    "def getNonlinearLoss(sample):\n",
    "    loss = (a*sample['x']**3 + b*sample['x']**2 + c*sample['x'] + d - sample['y'])**2\n",
    "    return loss\n",
    "\n",
    "samples_pd['NonlinearLoss'] = samples_pd.apply(getNonlinearLoss, axis=1)\n",
    "# samples_pd\n",
    "\n",
    "# 所有样本损失之和。\n",
    "nonlinear_loss_sum = samples_pd['NonlinearLoss'].sum() \n",
    "print(nonlinear_loss_sum)"
   ]
  },
  {
   "cell_type": "code",
   "execution_count": 18,
   "metadata": {},
   "outputs": [
    {
     "name": "stdout",
     "output_type": "stream",
     "text": [
      "49986870*a - 2870474*b + 192198*c - 9578*d - 137926\n",
      "-2870474*a + 192198*b - 9578*c + 990*d + 6418\n",
      "192198*a - 9578*b + 990*c - 14*d - 514\n",
      "-9578*a + 990*b - 14*c + 10*d - 22\n",
      "{a: -231249559/33546296235, b: -3057029708/11182098745, c: -15981769127/33546296235, d: 49191624707/2236419749}\n"
     ]
    }
   ],
   "source": [
    "# 对不同的变量求偏导数\n",
    "e_a = sympy.diff(nonlinear_loss_sum, a)\n",
    "e_b = sympy.diff(nonlinear_loss_sum, b)\n",
    "e_c = sympy.diff(nonlinear_loss_sum, c)\n",
    "e_d = sympy.diff(nonlinear_loss_sum, d)\n",
    "print(e_a)\n",
    "print(e_b)\n",
    "print(e_c)\n",
    "print(e_d)\n",
    "# 对偏导方程组e_a和e_b求齐次解。\n",
    "nonlinear_output = sympy.solve([e_a, e_b, e_c, e_d], [a, b, c, d])\n",
    "print(nonlinear_output)"
   ]
  },
  {
   "cell_type": "code",
   "execution_count": 19,
   "metadata": {},
   "outputs": [
    {
     "data": {
      "text/plain": [
       "<Figure size 576x360 with 0 Axes>"
      ]
     },
     "metadata": {},
     "output_type": "display_data"
    },
    {
     "data": {
      "image/png": "[encoded data removed]",
      "text/plain": [
       "<Figure size 432x288 with 1 Axes>"
      ]
     },
     "metadata": {
      "needs_background": "light"
     },
     "output_type": "display_data"
    }
   ],
   "source": [
    "# 可视化\n",
    "plt.figure(num=3, figsize=(8, 5))   # figsize的设置长和宽\n",
    "# 从LowerLimit - 2到UpperLimit + 2中取20个数\n",
    "x_s = np.linspace(LowerLimit - 2, UpperLimit + 2, 20)\n",
    "# print(x)\n",
    "y_nonlinear = float(nonlinear_output[a])*x_s**3 + float(nonlinear_output[b])*x_s**2 \n",
    "+ float(nonlinear_output[c])*x_s + float(nonlinear_output[d])\n",
    "# y2 = x_s**2\n",
    "plt.figure()\n",
    "plt.plot(x_s, y_nonlinear)\n",
    "for index, row in samples_pd.iterrows():\n",
    "    plt.scatter(row['x'], row['y'], marker='+', color='red')\n",
    "\n",
    "plt.grid()\n",
    "plt.savefig(\"../../pictures/NonlinearLeastSquareMethodResult.jpg\")\n",
    "plt.show()"
   ]
  },
  {
   "cell_type": "markdown",
   "metadata": {},
   "source": [
    "## 使用tensorflow来实现线性最小二乘法"
   ]
  },
  {
   "cell_type": "markdown",
   "metadata": {},
   "source": [
    "1. 生成数据"
   ]
  },
  {
   "cell_type": "code",
   "execution_count": 1,
   "metadata": {},
   "outputs": [
    {
     "data": {
      "image/png": "[encoded data removed]",
      "text/plain": [
       "<Figure size 432x288 with 1 Axes>"
      ]
     },
     "metadata": {
      "needs_background": "light"
     },
     "output_type": "display_data"
    }
   ],
   "source": [
    "import tensorflow as tf\n",
    "import numpy as np\n",
    "import matplotlib.pyplot as plt\n",
    "\n",
    "num_points = 100\n",
    "data_set = []\n",
    "for i in range(num_points):\n",
    "    x = np.random.normal(0.0, 0.55)\n",
    "    # 设置一定范围的浮动\n",
    "    y = x*0.1 + 0.3 + np.random.normal(0.0,0.03)\n",
    "    data_set.append([x, y])\n",
    "\n",
    "data_np = np.array(data_set)\n",
    "Data = tf.Variable(data_np, dtype=float)\n",
    "plt.scatter(data_np[:,0], data_np[:,1], c='red')\n",
    "plt.show()"
   ]
  },
  {
   "cell_type": "code",
   "execution_count": null,
   "metadata": {},
   "outputs": [],
   "source": [
    "# 定义tensorflow常量，也就是已经有数值的量。也就是训练数据。\n",
    "X = tf.constant(data_np[:,0])\n",
    "y = tf.constant(data_np[:,1])\n",
    "# 定义变量，也就是需要训练的量。\n",
    "a = tf.Variable(initial_value=0.)\n",
    "b = tf.Variable(initial_value=0.)\n",
    "\n",
    "# 定义迭代次数\n",
    "epoh = 1000\n",
    "\n",
    "# 定义函数形式\n",
    "y_pred = a * x + b\n",
    "\n",
    "# 定义损失函数\n",
    "\n",
    "\n",
    "\n"
   ]
  },
  {
   "cell_type": "code",
   "execution_count": 5,
   "metadata": {},
   "outputs": [
    {
     "name": "stdout",
     "output_type": "stream",
     "text": [
      "tf.Tensor([0.   0.25 0.5  0.75 1.  ], shape=(5,), dtype=float32)\n"
     ]
    }
   ],
   "source": [
    "# 定义原数据\n",
    "X_raw = np.array([2013,2014,2015,2016,2017],dtype=np.float32)\n",
    "Y_raw = np.array([12000,14000,15000,16500,17500],dtype=np.float32)\n",
    "\n",
    "# 数据归一化\n",
    "x = (X_raw - X_raw.min())/(X_raw.max() - X_raw.min())\n",
    "y = (Y_raw - Y_raw.min())/(Y_raw.max() - Y_raw.min())\n",
    "# 定义张量\n",
    "X = tf.constant(x)\n",
    "y = tf.constant(y)\n",
    "print(X)"
   ]
  }
 ],
 "metadata": {
  "interpreter": {
   "hash": "d94ea807e9dd88dec85d6135010093db08445b4f78f2386ac1d177de969ce657"
  },
  "kernelspec": {
   "display_name": "Python 3.7.9 64-bit",
   "language": "python",
   "name": "python3"
  },
  "language_info": {
   "codemirror_mode": {
    "name": "ipython",
    "version": 3
   },
   "file_extension": ".py",
   "mimetype": "text/x-python",
   "name": "python",
   "nbconvert_exporter": "python",
   "pygments_lexer": "ipython3",
   "version": "3.7.9"
  },
  "orig_nbformat": 4
 },
 "nbformat": 4,
 "nbformat_minor": 2
}
