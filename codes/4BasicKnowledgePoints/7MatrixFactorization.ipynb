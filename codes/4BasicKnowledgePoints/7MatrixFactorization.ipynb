{
 "cells": [
  {
   "cell_type": "markdown",
   "metadata": {},
   "source": [
    "# 实现对简单矩阵的因子分解Matrix Factorization\n",
    "\n",
    "1. 这个非常重要，是基础技术点。需要弄清楚里面的每一个知识点。\n",
    "2. 从纯数学的角度来实现这个算法。\n",
    "3. 采用Tensorflow来对矩阵进行运算。"
   ]
  },
  {
   "cell_type": "code",
   "execution_count": null,
   "metadata": {},
   "outputs": [],
   "source": [
    "M = "
   ]
  }
 ],
 "metadata": {
  "language_info": {
   "name": "python"
  },
  "orig_nbformat": 4
 },
 "nbformat": 4,
 "nbformat_minor": 2
}
