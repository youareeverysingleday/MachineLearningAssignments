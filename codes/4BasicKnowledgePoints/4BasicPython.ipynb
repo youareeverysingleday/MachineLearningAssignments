{
 "cells": [
  {
   "cell_type": "markdown",
   "metadata": {},
   "source": [
    "# list部分"
   ]
  },
  {
   "cell_type": "code",
   "execution_count": 1,
   "metadata": {},
   "outputs": [
    {
     "name": "stdout",
     "output_type": "stream",
     "text": [
      "0\n"
     ]
    }
   ],
   "source": [
    "list1= list(\"daaecef\")\n",
    "list1.sort()\n",
    "print(list1.index('a'))"
   ]
  },
  {
   "cell_type": "markdown",
   "metadata": {},
   "source": [
    "# tuple部分"
   ]
  },
  {
   "cell_type": "code",
   "execution_count": 2,
   "metadata": {},
   "outputs": [
    {
     "name": "stdout",
     "output_type": "stream",
     "text": [
      "2\n"
     ]
    }
   ],
   "source": [
    "t1=(1,)\n",
    "t2=(2)\n",
    "print(t2)"
   ]
  },
  {
   "cell_type": "markdown",
   "metadata": {},
   "source": [
    "# 字符串部分"
   ]
  },
  {
   "cell_type": "code",
   "execution_count": 3,
   "metadata": {},
   "outputs": [
    {
     "name": "stdout",
     "output_type": "stream",
     "text": [
      "97\n",
      "0x61\n"
     ]
    }
   ],
   "source": [
    "print(ord('a'))\n",
    "print(hex(ord('a')))"
   ]
  },
  {
   "cell_type": "code",
   "execution_count": 4,
   "metadata": {},
   "outputs": [
    {
     "name": "stdout",
     "output_type": "stream",
     "text": [
      "★\n",
      "★\n"
     ]
    }
   ],
   "source": [
    "print(chr(9733))\n",
    "print(chr(0x2605))"
   ]
  },
  {
   "cell_type": "code",
   "execution_count": 5,
   "metadata": {},
   "outputs": [
    {
     "data": {
      "text/plain": [
       "'aBcDe'"
      ]
     },
     "execution_count": 5,
     "metadata": {},
     "output_type": "execute_result"
    }
   ],
   "source": [
    "\"AbCdE\".swapcase()"
   ]
  },
  {
   "cell_type": "code",
   "execution_count": 6,
   "metadata": {},
   "outputs": [
    {
     "name": "stdout",
     "output_type": "stream",
     "text": [
      "Hello python one\n",
      "hello python two, int is 39\n",
      "hello 39, int is python two\n"
     ]
    }
   ],
   "source": [
    "str1 = \"Hello %s\"%(\"python one\")\n",
    "str2 = \"hello {}, int is {}\".format(\"python two\", 39)\n",
    "str3 = \"hello {1}, int is {0}\".format(\"python two\", 39)\n",
    "print(str1)\n",
    "print(str2)\n",
    "print(str3)"
   ]
  },
  {
   "cell_type": "markdown",
   "metadata": {},
   "source": [
    "## 全局变量"
   ]
  },
  {
   "cell_type": "code",
   "execution_count": 7,
   "metadata": {},
   "outputs": [
    {
     "name": "stdout",
     "output_type": "stream",
     "text": [
      "7\n",
      "3\n"
     ]
    }
   ],
   "source": [
    "# 1 示例1，不使用global\n",
    "\n",
    "x = 3\n",
    "def fun():\n",
    "    x = 7\n",
    "    return x\n",
    "\n",
    "print(fun())\n",
    "print(x)"
   ]
  },
  {
   "cell_type": "code",
   "execution_count": 8,
   "metadata": {},
   "outputs": [
    {
     "name": "stdout",
     "output_type": "stream",
     "text": [
      "7\n",
      "7\n"
     ]
    }
   ],
   "source": [
    "# 2 示例2，使用global\n",
    "x = 3\n",
    "def fun():\n",
    "    global x\n",
    "    x = 7\n",
    "    return x\n",
    "\n",
    "print(fun())\n",
    "print(x)"
   ]
  },
  {
   "cell_type": "markdown",
   "metadata": {},
   "source": [
    "## 参数传递"
   ]
  },
  {
   "cell_type": "code",
   "execution_count": 9,
   "metadata": {},
   "outputs": [
    {
     "name": "stdout",
     "output_type": "stream",
     "text": [
      "10 21\n",
      "34\n"
     ]
    }
   ],
   "source": [
    "x = 10\n",
    "y = 21\n",
    "\n",
    "def add(x, y):\n",
    "    x = x + 1\n",
    "    y = y + 2\n",
    "    return x + y\n",
    "\n",
    "result = add(x, y)\n",
    "\n",
    "print(x, y)\n",
    "print(result)"
   ]
  },
  {
   "cell_type": "code",
   "execution_count": 10,
   "metadata": {},
   "outputs": [
    {
     "name": "stdout",
     "output_type": "stream",
     "text": [
      "[1, 2, 3, 5]\n",
      "[1, 2, 3, 5]\n"
     ]
    }
   ],
   "source": [
    "xlist = [1,2,3]\n",
    "\n",
    "def operation(x):\n",
    "    x.append(5)\n",
    "    return x\n",
    "\n",
    "print(operation(xlist))\n",
    "print(xlist)"
   ]
  },
  {
   "cell_type": "markdown",
   "metadata": {},
   "source": [
    "## lambda表达式"
   ]
  },
  {
   "cell_type": "code",
   "execution_count": 11,
   "metadata": {},
   "outputs": [
    {
     "data": {
      "text/plain": [
       "3"
      ]
     },
     "execution_count": 11,
     "metadata": {},
     "output_type": "execute_result"
    }
   ],
   "source": [
    "def myadd(n1, n2):\n",
    "    return n1 + n2\n",
    "\n",
    "myadd(1, 2)"
   ]
  },
  {
   "cell_type": "code",
   "execution_count": 12,
   "metadata": {},
   "outputs": [
    {
     "data": {
      "text/plain": [
       "5"
      ]
     },
     "execution_count": 12,
     "metadata": {},
     "output_type": "execute_result"
    }
   ],
   "source": [
    "fun = lambda n1,n2: n1 + n2\n",
    "fun(2, 3)"
   ]
  },
  {
   "cell_type": "markdown",
   "metadata": {},
   "source": [
    "## return和yield"
   ]
  },
  {
   "cell_type": "code",
   "execution_count": 1,
   "metadata": {},
   "outputs": [
    {
     "name": "stdout",
     "output_type": "stream",
     "text": [
      "0\n"
     ]
    }
   ],
   "source": [
    "def fun(n):\n",
    "    for i in range(n):\n",
    "        # 这里意味着在i=0的时候就已经return了，也就是终止了。所以返回结果是0。\n",
    "        return i ** 2\n",
    "\n",
    "output = fun(10)\n",
    "print(output)"
   ]
  },
  {
   "cell_type": "code",
   "execution_count": 2,
   "metadata": {},
   "outputs": [
    {
     "name": "stdout",
     "output_type": "stream",
     "text": [
      "<class 'generator'>\n",
      "0\n",
      "1\n",
      "4\n",
      "9\n",
      "16\n",
      "25\n",
      "36\n",
      "49\n",
      "64\n",
      "81\n"
     ]
    }
   ],
   "source": [
    "def gen(n):\n",
    "    for i in range(n):\n",
    "        # 不会导致函数退出，而是创建了一个生成器对象。\n",
    "        yield i ** 2\n",
    "\n",
    "output = gen(10)\n",
    "print(type(output))\n",
    "\n",
    "for x in output:\n",
    "    print(x)\n"
   ]
  },
  {
   "cell_type": "code",
   "execution_count": 4,
   "metadata": {},
   "outputs": [
    {
     "name": "stdout",
     "output_type": "stream",
     "text": [
      "<class 'generator'>\n",
      "<class 'function'>\n",
      "<class 'generator'>\n",
      "False\n",
      "True\n",
      "False\n",
      "1\n",
      "2\n",
      "3\n",
      "------\n"
     ]
    }
   ],
   "source": [
    "def simpleGenerator():\n",
    "    x = 1\n",
    "    yield x\n",
    "    yield x + 1\n",
    "    yield x + 2\n",
    "    \n",
    "gen_obj = simpleGenerator()\n",
    "\n",
    "print(type(gen_obj))\n",
    "print(type(simpleGenerator))\n",
    "print(type(simpleGenerator()))\n",
    "\n",
    "from inspect import isgeneratorfunction \n",
    "print(isgeneratorfunction(gen_obj))\n",
    "print(isgeneratorfunction(simpleGenerator))\n",
    "print(isgeneratorfunction(simpleGenerator()))\n",
    "\n",
    "print(next(gen_obj))\n",
    "print(next(gen_obj))\n",
    "print(next(gen_obj))\n",
    "\n",
    "print(\"------\")\n",
    "for x in gen_obj:\n",
    "    print(\"=========\")\n",
    "    print(x)"
   ]
  },
  {
   "cell_type": "code",
   "execution_count": 5,
   "metadata": {},
   "outputs": [
    {
     "data": {
      "text/plain": [
       "False"
      ]
     },
     "execution_count": 5,
     "metadata": {},
     "output_type": "execute_result"
    }
   ],
   "source": [
    "from inspect import isgeneratorfunction \n",
    "isgeneratorfunction(gen_obj)"
   ]
  },
  {
   "cell_type": "markdown",
   "metadata": {},
   "source": [
    "## DataFrame"
   ]
  },
  {
   "cell_type": "code",
   "execution_count": 17,
   "metadata": {},
   "outputs": [
    {
     "name": "stdout",
     "output_type": "stream",
     "text": [
      "   col1  col2\n",
      "a     1     4\n",
      "b     2     5\n",
      "c     3     6\n"
     ]
    }
   ],
   "source": [
    "import pandas as pd\n",
    "import numpy as np\n",
    "\n",
    "pd1 = pd.DataFrame({'col1':[1,2,3], 'col2':[4,5,6]}, index=['a','b','c'])\n",
    "print(pd1)"
   ]
  },
  {
   "cell_type": "code",
   "execution_count": 18,
   "metadata": {},
   "outputs": [
    {
     "name": "stdout",
     "output_type": "stream",
     "text": [
      "   col1  col2\n",
      "0     1     4\n",
      "1     2     5\n",
      "2     3     6\n"
     ]
    }
   ],
   "source": [
    "# 将pandas和yield组合使用\n",
    "\n",
    "def generateIndex():\n",
    "    for i in range(3):\n",
    "        yield i\n",
    "\n",
    "pd2 = pd.DataFrame({'col1':[1,2,3], 'col2':[4,5,6]}, index=generateIndex())\n",
    "print(pd2)"
   ]
  },
  {
   "cell_type": "code",
   "execution_count": 19,
   "metadata": {},
   "outputs": [
    {
     "name": "stdout",
     "output_type": "stream",
     "text": [
      "   col1  col2  insertCol\n",
      "a     1     4          4\n",
      "b     2     5         10\n",
      "c     3     6         18\n"
     ]
    }
   ],
   "source": [
    "pd1.insert(loc=2, column=\"insertCol\", value=pd1['col1'] * pd1['col2'])\n",
    "print(pd1)"
   ]
  },
  {
   "cell_type": "code",
   "execution_count": 24,
   "metadata": {},
   "outputs": [
    {
     "data": {
      "text/html": [
       "<div>\n",
       "<style scoped>\n",
       "    .dataframe tbody tr th:only-of-type {\n",
       "        vertical-align: middle;\n",
       "    }\n",
       "\n",
       "    .dataframe tbody tr th {\n",
       "        vertical-align: top;\n",
       "    }\n",
       "\n",
       "    .dataframe thead th {\n",
       "        text-align: right;\n",
       "    }\n",
       "</style>\n",
       "<table border=\"1\" class=\"dataframe\">\n",
       "  <thead>\n",
       "    <tr style=\"text-align: right;\">\n",
       "      <th></th>\n",
       "      <th>col1</th>\n",
       "      <th>col2</th>\n",
       "      <th>insertCol</th>\n",
       "    </tr>\n",
       "  </thead>\n",
       "  <tbody>\n",
       "    <tr>\n",
       "      <th>a</th>\n",
       "      <td>1</td>\n",
       "      <td>4</td>\n",
       "      <td>4</td>\n",
       "    </tr>\n",
       "    <tr>\n",
       "      <th>b</th>\n",
       "      <td>2</td>\n",
       "      <td>5</td>\n",
       "      <td>10</td>\n",
       "    </tr>\n",
       "    <tr>\n",
       "      <th>c</th>\n",
       "      <td>3</td>\n",
       "      <td>6</td>\n",
       "      <td>18</td>\n",
       "    </tr>\n",
       "  </tbody>\n",
       "</table>\n",
       "</div>"
      ],
      "text/plain": [
       "   col1  col2  insertCol\n",
       "a     1     4          4\n",
       "b     2     5         10\n",
       "c     3     6         18"
      ]
     },
     "execution_count": 24,
     "metadata": {},
     "output_type": "execute_result"
    }
   ],
   "source": [
    "pd1.loc[:,:]"
   ]
  },
  {
   "cell_type": "markdown",
   "metadata": {},
   "source": [
    "## zip函数\n",
    "\n",
    "1. 参考<https://www.runoob.com/python/python-func-zip.html>\n",
    "2. zip()函数用于将可迭代的对象作为参数，将对象中对应的元素打包成一个个元组，然后返回由这些元组组成的列表。如果各个迭代器的元素个数不一致，则**返回列表长度与最短的对象相同**，利用*号操作符，可以将元组解压为列表。\n",
    "3. 语法:zip([iterable, ...])\n",
    "   1. iterabl -- 是一个或多个迭代器;\n",
    "4. 补充说明：zip方法在Python 2和Python 3中的不同：在Python 3.x中为了减少内存，zip()返回的是一个对象。如需展示列表，需手动list()转换。"
   ]
  },
  {
   "cell_type": "code",
   "execution_count": 8,
   "metadata": {},
   "outputs": [
    {
     "name": "stdout",
     "output_type": "stream",
     "text": [
      "<class 'zip'>\n",
      "[(1, 3), (2, 4)]\n",
      "<class 'zip'>\n",
      "[(1, 5), (2, 6)]\n"
     ]
    }
   ],
   "source": [
    "# 压缩\n",
    "a = [1, 2]\n",
    "b = [3, 4]\n",
    "c = [5, 6, 7]\n",
    "\n",
    "zipped_ab = zip(a, b)\n",
    "print(type(zipped_ab))\n",
    "print(list(zipped_ab))\n",
    "print(type(zipped_ab))\n",
    "\n",
    "zipped_ac = zip(a, c)\n",
    "print(list(zipped_ac))"
   ]
  },
  {
   "cell_type": "markdown",
   "metadata": {},
   "source": [
    "注意在使用了一次list(zipped_ac)，之后就不能在使用zip(*)来解压缩了。很奇怪！返回的错误是：ValueError: not enough values to unpack (expected 2, got 0)"
   ]
  },
  {
   "cell_type": "code",
   "execution_count": 12,
   "metadata": {},
   "outputs": [
    {
     "name": "stdout",
     "output_type": "stream",
     "text": [
      "[1, 2]\n",
      "[5, 6]\n"
     ]
    }
   ],
   "source": [
    "# 解压缩\n",
    "\n",
    "# 删除下面紧接着的第一行，就会出现紧接着的一个markdown中所述的错误。\n",
    "zipped_ac = zip(a, c)\n",
    "a1, a2 = zip(*zipped_ac)\n",
    "print(list(a1))\n",
    "print(list(a2))"
   ]
  }
 ],
 "metadata": {
  "interpreter": {
   "hash": "caf831573a0ff294614842876d2763885d6da16fb80bd95fae4076843946dd1d"
  },
  "kernelspec": {
   "display_name": "Python 3.7.9 64-bit",
   "language": "python",
   "name": "python3"
  },
  "language_info": {
   "codemirror_mode": {
    "name": "ipython",
    "version": 3
   },
   "file_extension": ".py",
   "mimetype": "text/x-python",
   "name": "python",
   "nbconvert_exporter": "python",
   "pygments_lexer": "ipython3",
   "version": "3.7.9"
  },
  "orig_nbformat": 4
 },
 "nbformat": 4,
 "nbformat_minor": 2
}
