{
 "cells": [
  {
   "cell_type": "markdown",
   "metadata": {},
   "source": [
    "# 拉格朗日插值法\n",
    "\n",
    "1. 参考\n",
    "   1. 原理说明<https://www.bilibili.com/video/BV1ZC4y1p77B?spm_id_from=333.337.search-card.all.click>\n",
    "   2. 基函数是如何产生的<https://www.bilibili.com/video/BV1TR4y1j745/?spm_id_from=autoNext>\n",
    "2. 目标：\n",
    "   1. 实现简单的拉格朗日插值法\n",
    "   2. 如何实现对一个函数添加条件然后求解。"
   ]
  }
 ],
 "metadata": {
  "language_info": {
   "name": "python"
  },
  "orig_nbformat": 4
 },
 "nbformat": 4,
 "nbformat_minor": 2
}
