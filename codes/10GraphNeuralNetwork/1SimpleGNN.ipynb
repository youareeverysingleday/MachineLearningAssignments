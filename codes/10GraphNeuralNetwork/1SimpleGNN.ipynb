{
 "cells": [
  {
   "cell_type": "markdown",
   "metadata": {},
   "source": [
    "# 简单GNN实现"
   ]
  },
  {
   "cell_type": "code",
   "execution_count": null,
   "metadata": {},
   "outputs": [],
   "source": [
    "import tensorflow as tf\n",
    "import numpy as np"
   ]
  },
  {
   "cell_type": "code",
   "execution_count": null,
   "metadata": {},
   "outputs": [],
   "source": [
    "# 创建5个顶点数据，每个顶点有5个特征。\n",
    "\n",
    "Nodes = tf.random.normal(shape=[5, 5])\n",
    "\n",
    "# 创建6条边，连接其中的几个顶点。\n",
    "\n",
    "# 创建一个全局向量，表示全局信息。\n",
    "GlobalFeature = tf.random.normal(shape=[1, 15])"
   ]
  }
 ],
 "metadata": {
  "language_info": {
   "name": "python"
  },
  "orig_nbformat": 4
 },
 "nbformat": 4,
 "nbformat_minor": 2
}
