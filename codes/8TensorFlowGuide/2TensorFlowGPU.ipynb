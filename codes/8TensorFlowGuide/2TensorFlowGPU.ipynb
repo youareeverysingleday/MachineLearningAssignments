{
 "cells": [
  {
   "cell_type": "markdown",
   "metadata": {},
   "source": [
    "# TensorFlow与GPU相关的一些操作\n",
    "\n",
    "1. 使用的tensorflow版本是2.8.0\n",
    "2. TensorFlow自己会决定是否使用GPU来进行加速。来源Tensorflow官方页面：<https://tensorflow.google.cn/tutorials/customization/basics>。原文如下：\n",
    "    ```\n",
    "    GPU acceleration\n",
    "    Many TensorFlow operations are accelerated using the GPU for computation. Without any annotations, TensorFlow automatically decides whether to use the GPU or CPU for an operation—copying the tensor between CPU and GPU memory, if necessary. Tensors produced by an operation are typically backed by the memory of the device on which the operation executed, for example:\n",
    "\n",
    "    x = tf.random.uniform([3, 3])\n",
    "\n",
    "    print(\"Is there a GPU available: \"),\n",
    "    print(tf.config.list_physical_devices(\"GPU\"))\n",
    "\n",
    "    print(\"Is the Tensor on GPU #0:  \"),\n",
    "    print(x.device.endswith('GPU:0'))\n",
    "\n",
    "    Is there a GPU available: \n",
    "    [PhysicalDevice(name='/physical_device:GPU:0', device_type='GPU')]\n",
    "    Is the Tensor on GPU #0:  \n",
    "    True\n",
    "    ```\n",
    "3. 重要-Tensorflow中使用GPU的相关代码详见<https://tensorflow.google.cn/guide/gpu?hl=zh_cn#%E9%99%90%E5%88%B6_gpu_%E5%86%85%E5%AD%98%E5%A2%9E%E9%95%BF>。"
   ]
  },
  {
   "cell_type": "code",
   "execution_count": null,
   "metadata": {},
   "outputs": [],
   "source": [
    "import tensorflow as tf"
   ]
  },
  {
   "cell_type": "markdown",
   "metadata": {},
   "source": [
    "## 查看GPU是否可用"
   ]
  },
  {
   "cell_type": "code",
   "execution_count": null,
   "metadata": {},
   "outputs": [],
   "source": [
    "tf.test.gpu_is_available()"
   ]
  },
  {
   "cell_type": "markdown",
   "metadata": {},
   "source": [
    "如果正常会显示以下内容：\n",
    "```\n",
    "WARNING:tensorflow:From C:\\Users\\Administrator\\AppData\\Local\\Temp\\ipykernel_5236\\2010920604.py:2: is_gpu_available (from tensorflow.python.framework.test_util) is deprecated and will be removed in a future version.\n",
    "Instructions for updating:\n",
    "Use `tf.config.list_physical_devices('GPU')` instead.\n",
    "True\n",
    "```"
   ]
  },
  {
   "cell_type": "markdown",
   "metadata": {},
   "source": [
    "## 查看GPU配置"
   ]
  },
  {
   "cell_type": "code",
   "execution_count": null,
   "metadata": {},
   "outputs": [],
   "source": [
    "print(tf.config.list_physical_devices(\"GPU\"))"
   ]
  },
  {
   "cell_type": "markdown",
   "metadata": {},
   "source": [
    "如果正常会显示以下内容：\n",
    "\n",
    "```\n",
    "[PhysicalDevice(name='/physical_device:GPU:0', device_type='GPU'), PhysicalDevice(name='/physical_device:GPU:1', device_type='GPU'), PhysicalDevice(name='/physical_device:GPU:2', device_type='GPU'), PhysicalDevice(name='/physical_device:GPU:3', device_type='GPU'), PhysicalDevice(name='/physical_device:GPU:4', device_type='GPU'), PhysicalDevice(name='/physical_device:GPU:5', device_type='GPU'), PhysicalDevice(name='/physical_device:GPU:6', device_type='GPU'), PhysicalDevice(name='/physical_device:GPU:7', device_type='GPU')]\n",
    "```"
   ]
  }
 ],
 "metadata": {
  "language_info": {
   "name": "python"
  },
  "orig_nbformat": 4
 },
 "nbformat": 4,
 "nbformat_minor": 2
}
