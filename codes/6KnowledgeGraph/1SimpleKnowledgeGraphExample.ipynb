{
 "cells": [
  {
   "cell_type": "markdown",
   "metadata": {},
   "source": [
    "# 简单知识图谱使用试验\n",
    "\n",
    "|编号|名称|具体内容|\n",
    "|---|---|---|\n",
    "|1|使用的知识图谱名称|CN-DBpedia|\n",
    "|2|相关资料网址|<http://kw.fudan.edu.cn/apis/intro/>|\n",
    "|3|简单示例代码|<https://blog.csdn.net/yangfengling1023/article/details/89334581>|\n",
    "|4|||\n",
    "|5|||\n",
    "|6|||\n",
    "|7|||\n"
   ]
  },
  {
   "cell_type": "code",
   "execution_count": 1,
   "metadata": {},
   "outputs": [
    {
     "name": "stdout",
     "output_type": "stream",
     "text": [
      "{\"status\": \"ok\", \"ret\": [\"葡萄（葡萄属植物）\", \"葡萄（电视剧《守望的天空》主人物）\", \"葡萄（网络文学小说作者）\", \"葡萄（网络歌手）\", \"葡萄（《葡萄》题诗）\", \"葡萄（2011年大陆电视剧）\", \"葡萄（昌云军，管雪强主编图书）\", \"葡萄（lf兄弟演唱的歌曲）\", \"葡萄（缅甸克钦邦下辖县）\", \"葡萄（韩红演唱歌曲）\", \"葡萄（郝蕾演唱歌曲）\"]}\n"
     ]
    }
   ],
   "source": [
    "from urllib.parse import quote\n",
    "import urllib\n",
    "import json\n",
    "import numpy as np\n",
    "# 输入实体指称项名称，返回对应实体(entity)的列表，json格式\n",
    "# 格式http://shuyantech.com/api/cndbpedia/avpair?q=**      # **是查询的实体名\n",
    "input_entity = quote('葡萄')\n",
    "input_url = 'http://shuyantech.com/api/cndbpedia/ment2ent?q='\n",
    "url = input_url+input_entity\n",
    "response = urllib.request.urlopen(url)\n",
    "print(response.read().decode('utf-8'))\n"
   ]
  },
  {
   "cell_type": "code",
   "execution_count": 2,
   "metadata": {},
   "outputs": [
    {
     "name": "stdout",
     "output_type": "stream",
     "text": [
      "{\"status\": \"ok\", \"ret\": [[\"中文名\", \"沈阳航空航天大学\"], [\"外文名称\", \"Shenyang Aerospace University\"], [\"简称\", \"沈航\"], [\"简称\", \"SAU\"], [\"创办时间\", \"1952年\"], [\"办学性质\", \"公立大学\"], [\"学校类别\", \"理工类\"], [\"学校特色\", \"省部共建高校\"], [\"学校特色\", \"卓越工程师教育培养计划（2010年入选）\"], [\"学校特色\", \"省部部共建高校（2014年）\"], [\"主管部门\", \"辽宁省\"], [\"现任领导\", \"党委书记：翟文豹、校长：孙小平\"], [\"专职院士数\", \"中国工程院院士1人\"], [\"本科专业\", \"65个\"], [\"硕士点\", \"学术学位授权一级学科15个\"], [\"硕士点\", \"专业学位授权类别3个\"], [\"硕士点\", \"专业学位授权领域9个\"], [\"博士点\", \"学术学位授权一级学科2个\"], [\"院系设置\", \"26个教学、科研单位\"], [\"校训\", \"德能并进，勇毅翔远\"], [\"校歌\", \"梦圆长天\"], [\"校庆日\", \"每年9月份的第三个星期日\"], [\"地址\", \"辽宁省沈阳市沈北新区道义南大街37号\"], [\"院校代码\", \"10143\"], [\"知名校友\", \"滕连富\"], [\"知名校友\", \"刘政崇\"], [\"知名校友\", \"徐占斌\"], [\"知名校友\", \"郭殿满\"], [\"知名校友\", \"田玉龙\"], [\"知名教师\", \"杨凤田\"], [\"知名教师\", \"冷劲松\"], [\"知名教师\", \"金树颖\"], [\"知名教师\", \"洪涛\"], [\"知名教师\", \"王亚杰\"], [\"DESC\", \"沈阳航空航天大学（Shenyang Aerospace University，SAU），位于辽宁省沈阳市，简称“沈航”，是一所以航空宇航为特色，以工为主，包含工、理、文、经、管等多科性高等院校，是教育部、中国航空工业集团有限公司与辽宁省人民政府三方共建高校，国防科工局与辽宁省人民政府共建高校，空军依托培养后备军官的全国18所地方院校之一，入选教育部“卓越工程师教育培养计划”试点。\\n学校始建于1952年，是原航空工业部所属的6所本科航空院校之一，初命名为“沈阳航空工业学校”，历经“东北第一工业学校”、“沈阳第一工业学校”、“沈阳航空工业学校”、“沈阳航空工业专科学校”、“沈阳航空学院”、“沈阳航空工业学院”等阶段，于2010年3月正式更名为“沈阳航空航天大学”。\\n截至2021年4月，学校占地1731亩，建筑面积84.38万平方米，固定资产总值22.80亿元，教学科研仪器设备总值5.91亿元；下设26个教学、科研单位，有65个本科专业，2个博士学位一级学科授权点，15个硕士学位一级学科授权点，7个专业硕士学位点；有教职工1600余人，各类学生21000余人。\\n2021年5月31日，沈阳航空航天大学党委被中共中央组织部确定为“全国先进基层党组织”拟表彰对象。\"]]}\n"
     ]
    }
   ],
   "source": [
    "from urllib.parse import quote\n",
    "import urllib\n",
    "import json\n",
    "import numpy as np\n",
    "#输入实体名，返回实体全部的三元组知识\n",
    "#格式：http://shuyantech.com/api/cndbpedia/value?q=**&attr=**    # 前**是查询的实体名；后**是查询的属性名\n",
    " \n",
    "input_entity_name = quote('沈阳航空航天大学')\n",
    "input_url =  'http://shuyantech.com/api/cndbpedia/avpair?q='\n",
    "url = input_url+input_entity_name\n",
    "response = urllib.request.urlopen(url)\n",
    "print(response.read().decode('utf-8'))\n"
   ]
  },
  {
   "cell_type": "code",
   "execution_count": 3,
   "metadata": {},
   "outputs": [
    {
     "name": "stdout",
     "output_type": "stream",
     "text": [
      "{\"status\": \"ok\", \"ret\": [\"Shenyang Aerospace University\"]}\n"
     ]
    }
   ],
   "source": [
    "from urllib.parse import quote\n",
    "import urllib\n",
    "import json\n",
    "import numpy as np\n",
    "# 给定实体名和属性名，返回属性值\n",
    "input_entity_name = quote('沈阳航空航天大学')\n",
    "input_attr = quote('外文名称')\n",
    "input_url = 'http://shuyantech.com/api/cndbpedia/value?q='\n",
    "url = input_url+input_entity_name+'&attr='+input_attr\n",
    "response = urllib.request.urlopen(url)\n",
    "print(response.read().decode('utf-8'))"
   ]
  }
 ],
 "metadata": {
  "interpreter": {
   "hash": "d94ea807e9dd88dec85d6135010093db08445b4f78f2386ac1d177de969ce657"
  },
  "kernelspec": {
   "display_name": "Python 3.7.9 64-bit",
   "language": "python",
   "name": "python3"
  },
  "language_info": {
   "codemirror_mode": {
    "name": "ipython",
    "version": 3
   },
   "file_extension": ".py",
   "mimetype": "text/x-python",
   "name": "python",
   "nbconvert_exporter": "python",
   "pygments_lexer": "ipython3",
   "version": "3.7.9"
  },
  "orig_nbformat": 4
 },
 "nbformat": 4,
 "nbformat_minor": 2
}
