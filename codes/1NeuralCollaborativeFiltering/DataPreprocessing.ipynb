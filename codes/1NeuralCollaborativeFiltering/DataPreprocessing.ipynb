{
 "cells": [
  {
   "cell_type": "markdown",
   "metadata": {},
   "source": [
    "# 观察数据形式并对数据进行预处理\n",
    "1. [Foursquare数据](https://sites.google.com/site/xueatalphabeta/academic-projects)已经下载好了。[本地路径](../../data/ml-1m/)\n",
    "2. [MovieLens](http://grouplens.org/datasets/movielens/1m/)已经下载好了。[本地路径](../../data/Foursqare/)"
   ]
  },
  {
   "cell_type": "code",
   "execution_count": 1,
   "metadata": {},
   "outputs": [],
   "source": [
    "import numpy as np\n",
    "import pandas as pd\n"
   ]
  },
  {
   "cell_type": "markdown",
   "metadata": {},
   "source": [
    "# Foursquare需要处理的位置\n",
    "1. 需要将题头与数据的分隔符去掉（手动）。\n",
    "2. 需要将结尾的字数统计去掉（手动）(1021966 rows)。\n",
    "3. 需要将题头中的空格去掉（手动）。\n",
    "4. 需要指定读取时的分隔符为\"|\"。\n",
    "5. 需要将数据中的空格去掉。\n",
    "   1. id、user_id、venue_id通过设置字段来解决。\n",
    "   2. latitude和longitude通过下面一个步骤来实现。\n",
    "   3. created_at不处理空格。\n",
    "6. 经纬度数据的处理。\n",
    "   1. 中的空格部分替换为''。\n",
    "   2. 然后将经纬度中为''的替换为'0'。\n",
    "   3. 然后在将其转换为数值类型。\n",
    "      1. 使用这种形式的转换不行checkins_dataset['latitude'].apply(pd.to_numeric)。转换之后再看数据类型并没有变化。使用checkins_dataset[['latitude', 'longitude']] = checkins_dataset[['latitude', 'longitude']].astype(np.float64)这种转换可以。\n",
    "7. created_at如果需要转化为datetime类型需要耗时2分11.2秒。同样的使用checkins_dataset[['created_at']] = checkins_dataset[['created_at']].astype(np.datetime64)来完成转换。使用这种转换checkins_dataset['created_at'].apply(pd.to_datetime)不仅再次查看的时候没有将类型转换完成，而且还非常耗时。\n"
   ]
  },
  {
   "cell_type": "code",
   "execution_count": 2,
   "metadata": {},
   "outputs": [],
   "source": [
    "checkins_dataset = pd.read_csv(\"../../data/Foursqare/checkins.dat\",sep=\"|\", \n",
    "                               dtype={'id': np.int32, \n",
    "                                      'user_id': np.int32, \n",
    "                                      'venue_id': np.int32, \n",
    "                                      'latitude':object, \n",
    "                                      'longitude': object, \n",
    "                                      'created_at': object})"
   ]
  },
  {
   "cell_type": "code",
   "execution_count": 3,
   "metadata": {},
   "outputs": [
    {
     "data": {
      "text/html": [
       "<div>\n",
       "<style scoped>\n",
       "    .dataframe tbody tr th:only-of-type {\n",
       "        vertical-align: middle;\n",
       "    }\n",
       "\n",
       "    .dataframe tbody tr th {\n",
       "        vertical-align: top;\n",
       "    }\n",
       "\n",
       "    .dataframe thead th {\n",
       "        text-align: right;\n",
       "    }\n",
       "</style>\n",
       "<table border=\"1\" class=\"dataframe\">\n",
       "  <thead>\n",
       "    <tr style=\"text-align: right;\">\n",
       "      <th></th>\n",
       "      <th>id</th>\n",
       "      <th>user_id</th>\n",
       "      <th>venue_id</th>\n",
       "    </tr>\n",
       "  </thead>\n",
       "  <tbody>\n",
       "    <tr>\n",
       "      <th>count</th>\n",
       "      <td>1.021966e+06</td>\n",
       "      <td>1.021966e+06</td>\n",
       "      <td>1.021966e+06</td>\n",
       "    </tr>\n",
       "    <tr>\n",
       "      <th>mean</th>\n",
       "      <td>5.109985e+05</td>\n",
       "      <td>1.227084e+06</td>\n",
       "      <td>1.502672e+05</td>\n",
       "    </tr>\n",
       "    <tr>\n",
       "      <th>std</th>\n",
       "      <td>2.950163e+05</td>\n",
       "      <td>6.638054e+05</td>\n",
       "      <td>2.440088e+05</td>\n",
       "    </tr>\n",
       "    <tr>\n",
       "      <th>min</th>\n",
       "      <td>1.600000e+01</td>\n",
       "      <td>1.000000e+00</td>\n",
       "      <td>1.000000e+00</td>\n",
       "    </tr>\n",
       "    <tr>\n",
       "      <th>25%</th>\n",
       "      <td>2.555072e+05</td>\n",
       "      <td>6.097910e+05</td>\n",
       "      <td>9.310000e+03</td>\n",
       "    </tr>\n",
       "    <tr>\n",
       "      <th>50%</th>\n",
       "      <td>5.109985e+05</td>\n",
       "      <td>1.380121e+06</td>\n",
       "      <td>3.216300e+04</td>\n",
       "    </tr>\n",
       "    <tr>\n",
       "      <th>75%</th>\n",
       "      <td>7.664898e+05</td>\n",
       "      <td>1.775918e+06</td>\n",
       "      <td>1.732980e+05</td>\n",
       "    </tr>\n",
       "    <tr>\n",
       "      <th>max</th>\n",
       "      <td>1.021981e+06</td>\n",
       "      <td>2.153502e+06</td>\n",
       "      <td>1.143020e+06</td>\n",
       "    </tr>\n",
       "  </tbody>\n",
       "</table>\n",
       "</div>"
      ],
      "text/plain": [
       "                 id       user_id      venue_id\n",
       "count  1.021966e+06  1.021966e+06  1.021966e+06\n",
       "mean   5.109985e+05  1.227084e+06  1.502672e+05\n",
       "std    2.950163e+05  6.638054e+05  2.440088e+05\n",
       "min    1.600000e+01  1.000000e+00  1.000000e+00\n",
       "25%    2.555072e+05  6.097910e+05  9.310000e+03\n",
       "50%    5.109985e+05  1.380121e+06  3.216300e+04\n",
       "75%    7.664898e+05  1.775918e+06  1.732980e+05\n",
       "max    1.021981e+06  2.153502e+06  1.143020e+06"
      ]
     },
     "execution_count": 3,
     "metadata": {},
     "output_type": "execute_result"
    }
   ],
   "source": [
    "checkins_dataset.describe()"
   ]
  },
  {
   "cell_type": "code",
   "execution_count": 4,
   "metadata": {},
   "outputs": [
    {
     "data": {
      "text/plain": [
       "Index(['id', 'user_id', 'venue_id', 'latitude', 'longitude', 'created_at'], dtype='object')"
      ]
     },
     "execution_count": 4,
     "metadata": {},
     "output_type": "execute_result"
    }
   ],
   "source": [
    "checkins_dataset.head(5)\n",
    "checkins_dataset.columns"
   ]
  },
  {
   "cell_type": "code",
   "execution_count": 5,
   "metadata": {},
   "outputs": [
    {
     "data": {
      "text/plain": [
       "id             int32\n",
       "user_id        int32\n",
       "venue_id       int32\n",
       "latitude      object\n",
       "longitude     object\n",
       "created_at    object\n",
       "dtype: object"
      ]
     },
     "execution_count": 5,
     "metadata": {},
     "output_type": "execute_result"
    }
   ],
   "source": [
    "checkins_dataset.dtypes"
   ]
  },
  {
   "cell_type": "code",
   "execution_count": 6,
   "metadata": {},
   "outputs": [
    {
     "data": {
      "text/html": [
       "<div>\n",
       "<style scoped>\n",
       "    .dataframe tbody tr th:only-of-type {\n",
       "        vertical-align: middle;\n",
       "    }\n",
       "\n",
       "    .dataframe tbody tr th {\n",
       "        vertical-align: top;\n",
       "    }\n",
       "\n",
       "    .dataframe thead th {\n",
       "        text-align: right;\n",
       "    }\n",
       "</style>\n",
       "<table border=\"1\" class=\"dataframe\">\n",
       "  <thead>\n",
       "    <tr style=\"text-align: right;\">\n",
       "      <th></th>\n",
       "      <th>id</th>\n",
       "      <th>user_id</th>\n",
       "      <th>venue_id</th>\n",
       "      <th>latitude</th>\n",
       "      <th>longitude</th>\n",
       "      <th>created_at</th>\n",
       "    </tr>\n",
       "  </thead>\n",
       "  <tbody>\n",
       "    <tr>\n",
       "      <th>0</th>\n",
       "      <td>984301</td>\n",
       "      <td>2041916</td>\n",
       "      <td>5222</td>\n",
       "      <td></td>\n",
       "      <td></td>\n",
       "      <td>2012-04-21 17:39:01</td>\n",
       "    </tr>\n",
       "    <tr>\n",
       "      <th>1</th>\n",
       "      <td>984222</td>\n",
       "      <td>15824</td>\n",
       "      <td>5222</td>\n",
       "      <td>38.8951118</td>\n",
       "      <td>-77.0363658</td>\n",
       "      <td>2012-04-21 17:43:47</td>\n",
       "    </tr>\n",
       "    <tr>\n",
       "      <th>2</th>\n",
       "      <td>984315</td>\n",
       "      <td>1764391</td>\n",
       "      <td>5222</td>\n",
       "      <td></td>\n",
       "      <td></td>\n",
       "      <td>2012-04-21 17:37:18</td>\n",
       "    </tr>\n",
       "    <tr>\n",
       "      <th>3</th>\n",
       "      <td>984234</td>\n",
       "      <td>44652</td>\n",
       "      <td>5222</td>\n",
       "      <td>33.800745</td>\n",
       "      <td>-84.41052</td>\n",
       "      <td>2012-04-21 17:43:43</td>\n",
       "    </tr>\n",
       "    <tr>\n",
       "      <th>4</th>\n",
       "      <td>984249</td>\n",
       "      <td>2146840</td>\n",
       "      <td>5222</td>\n",
       "      <td></td>\n",
       "      <td></td>\n",
       "      <td>2012-04-21 17:42:58</td>\n",
       "    </tr>\n",
       "  </tbody>\n",
       "</table>\n",
       "</div>"
      ],
      "text/plain": [
       "       id  user_id  venue_id    latitude    longitude            created_at\n",
       "0  984301  2041916      5222                            2012-04-21 17:39:01\n",
       "1  984222    15824      5222  38.8951118  -77.0363658   2012-04-21 17:43:47\n",
       "2  984315  1764391      5222                            2012-04-21 17:37:18\n",
       "3  984234    44652      5222   33.800745    -84.41052   2012-04-21 17:43:43\n",
       "4  984249  2146840      5222                            2012-04-21 17:42:58"
      ]
     },
     "execution_count": 6,
     "metadata": {},
     "output_type": "execute_result"
    }
   ],
   "source": [
    "checkins_dataset['latitude'].replace('\\s+','',regex=True,inplace=True) \n",
    "checkins_dataset['longitude'].replace('\\s+','',regex=True,inplace=True) \n",
    "checkins_dataset.head(5)"
   ]
  },
  {
   "cell_type": "code",
   "execution_count": 7,
   "metadata": {},
   "outputs": [
    {
     "data": {
      "text/html": [
       "<div>\n",
       "<style scoped>\n",
       "    .dataframe tbody tr th:only-of-type {\n",
       "        vertical-align: middle;\n",
       "    }\n",
       "\n",
       "    .dataframe tbody tr th {\n",
       "        vertical-align: top;\n",
       "    }\n",
       "\n",
       "    .dataframe thead th {\n",
       "        text-align: right;\n",
       "    }\n",
       "</style>\n",
       "<table border=\"1\" class=\"dataframe\">\n",
       "  <thead>\n",
       "    <tr style=\"text-align: right;\">\n",
       "      <th></th>\n",
       "      <th>id</th>\n",
       "      <th>user_id</th>\n",
       "      <th>venue_id</th>\n",
       "      <th>latitude</th>\n",
       "      <th>longitude</th>\n",
       "      <th>created_at</th>\n",
       "    </tr>\n",
       "  </thead>\n",
       "  <tbody>\n",
       "    <tr>\n",
       "      <th>0</th>\n",
       "      <td>984301</td>\n",
       "      <td>2041916</td>\n",
       "      <td>5222</td>\n",
       "      <td>0</td>\n",
       "      <td>0</td>\n",
       "      <td>2012-04-21 17:39:01</td>\n",
       "    </tr>\n",
       "    <tr>\n",
       "      <th>1</th>\n",
       "      <td>984222</td>\n",
       "      <td>15824</td>\n",
       "      <td>5222</td>\n",
       "      <td>38.8951118</td>\n",
       "      <td>-77.0363658</td>\n",
       "      <td>2012-04-21 17:43:47</td>\n",
       "    </tr>\n",
       "    <tr>\n",
       "      <th>2</th>\n",
       "      <td>984315</td>\n",
       "      <td>1764391</td>\n",
       "      <td>5222</td>\n",
       "      <td>0</td>\n",
       "      <td>0</td>\n",
       "      <td>2012-04-21 17:37:18</td>\n",
       "    </tr>\n",
       "    <tr>\n",
       "      <th>3</th>\n",
       "      <td>984234</td>\n",
       "      <td>44652</td>\n",
       "      <td>5222</td>\n",
       "      <td>33.800745</td>\n",
       "      <td>-84.41052</td>\n",
       "      <td>2012-04-21 17:43:43</td>\n",
       "    </tr>\n",
       "    <tr>\n",
       "      <th>4</th>\n",
       "      <td>984249</td>\n",
       "      <td>2146840</td>\n",
       "      <td>5222</td>\n",
       "      <td>0</td>\n",
       "      <td>0</td>\n",
       "      <td>2012-04-21 17:42:58</td>\n",
       "    </tr>\n",
       "  </tbody>\n",
       "</table>\n",
       "</div>"
      ],
      "text/plain": [
       "       id  user_id  venue_id    latitude    longitude            created_at\n",
       "0  984301  2041916      5222           0            0   2012-04-21 17:39:01\n",
       "1  984222    15824      5222  38.8951118  -77.0363658   2012-04-21 17:43:47\n",
       "2  984315  1764391      5222           0            0   2012-04-21 17:37:18\n",
       "3  984234    44652      5222   33.800745    -84.41052   2012-04-21 17:43:43\n",
       "4  984249  2146840      5222           0            0   2012-04-21 17:42:58"
      ]
     },
     "execution_count": 7,
     "metadata": {},
     "output_type": "execute_result"
    }
   ],
   "source": [
    "checkins_dataset['latitude'].replace('','0',regex=True,inplace=True) \n",
    "checkins_dataset['longitude'].replace('','0',regex=True,inplace=True) \n",
    "checkins_dataset.head(5)"
   ]
  },
  {
   "cell_type": "code",
   "execution_count": 12,
   "metadata": {},
   "outputs": [
    {
     "data": {
      "text/plain": [
       "id             int32\n",
       "user_id        int32\n",
       "venue_id       int32\n",
       "latitude      object\n",
       "longitude     object\n",
       "created_at    object\n",
       "dtype: object"
      ]
     },
     "execution_count": 12,
     "metadata": {},
     "output_type": "execute_result"
    }
   ],
   "source": [
    "checkins_dataset.dtypes"
   ]
  },
  {
   "cell_type": "code",
   "execution_count": 18,
   "metadata": {},
   "outputs": [],
   "source": [
    "checkins_dataset[['latitude', 'longitude']] = checkins_dataset[['latitude', 'longitude']].astype(np.float64)\n",
    "checkins_dataset[['created_at']] = checkins_dataset[['created_at']].astype(np.datetime64)"
   ]
  },
  {
   "cell_type": "code",
   "execution_count": 20,
   "metadata": {},
   "outputs": [
    {
     "data": {
      "text/plain": [
       "id                     int32\n",
       "user_id                int32\n",
       "venue_id               int32\n",
       "latitude             float64\n",
       "longitude            float64\n",
       "created_at    datetime64[ns]\n",
       "dtype: object"
      ]
     },
     "execution_count": 20,
     "metadata": {},
     "output_type": "execute_result"
    }
   ],
   "source": [
    "checkins_dataset.dtypes"
   ]
  },
  {
   "cell_type": "code",
   "execution_count": 19,
   "metadata": {},
   "outputs": [
    {
     "data": {
      "text/html": [
       "<div>\n",
       "<style scoped>\n",
       "    .dataframe tbody tr th:only-of-type {\n",
       "        vertical-align: middle;\n",
       "    }\n",
       "\n",
       "    .dataframe tbody tr th {\n",
       "        vertical-align: top;\n",
       "    }\n",
       "\n",
       "    .dataframe thead th {\n",
       "        text-align: right;\n",
       "    }\n",
       "</style>\n",
       "<table border=\"1\" class=\"dataframe\">\n",
       "  <thead>\n",
       "    <tr style=\"text-align: right;\">\n",
       "      <th></th>\n",
       "      <th>id</th>\n",
       "      <th>user_id</th>\n",
       "      <th>venue_id</th>\n",
       "      <th>latitude</th>\n",
       "      <th>longitude</th>\n",
       "    </tr>\n",
       "  </thead>\n",
       "  <tbody>\n",
       "    <tr>\n",
       "      <th>count</th>\n",
       "      <td>1.021966e+06</td>\n",
       "      <td>1.021966e+06</td>\n",
       "      <td>1.021966e+06</td>\n",
       "      <td>1.021966e+06</td>\n",
       "      <td>1.021966e+06</td>\n",
       "    </tr>\n",
       "    <tr>\n",
       "      <th>mean</th>\n",
       "      <td>5.109985e+05</td>\n",
       "      <td>1.227084e+06</td>\n",
       "      <td>1.502672e+05</td>\n",
       "      <td>1.439770e+01</td>\n",
       "      <td>-3.351477e+01</td>\n",
       "    </tr>\n",
       "    <tr>\n",
       "      <th>std</th>\n",
       "      <td>2.950163e+05</td>\n",
       "      <td>6.638054e+05</td>\n",
       "      <td>2.440088e+05</td>\n",
       "      <td>1.888728e+01</td>\n",
       "      <td>4.827883e+01</td>\n",
       "    </tr>\n",
       "    <tr>\n",
       "      <th>min</th>\n",
       "      <td>1.600000e+01</td>\n",
       "      <td>1.000000e+00</td>\n",
       "      <td>1.000000e+00</td>\n",
       "      <td>-7.525097e+01</td>\n",
       "      <td>-1.596708e+02</td>\n",
       "    </tr>\n",
       "    <tr>\n",
       "      <th>25%</th>\n",
       "      <td>2.555072e+05</td>\n",
       "      <td>6.097910e+05</td>\n",
       "      <td>9.310000e+03</td>\n",
       "      <td>0.000000e+00</td>\n",
       "      <td>-7.786000e+01</td>\n",
       "    </tr>\n",
       "    <tr>\n",
       "      <th>50%</th>\n",
       "      <td>5.109985e+05</td>\n",
       "      <td>1.380121e+06</td>\n",
       "      <td>3.216300e+04</td>\n",
       "      <td>0.000000e+00</td>\n",
       "      <td>0.000000e+00</td>\n",
       "    </tr>\n",
       "    <tr>\n",
       "      <th>75%</th>\n",
       "      <td>7.664898e+05</td>\n",
       "      <td>1.775918e+06</td>\n",
       "      <td>1.732980e+05</td>\n",
       "      <td>3.611465e+01</td>\n",
       "      <td>0.000000e+00</td>\n",
       "    </tr>\n",
       "    <tr>\n",
       "      <th>max</th>\n",
       "      <td>1.021981e+06</td>\n",
       "      <td>2.153502e+06</td>\n",
       "      <td>1.143020e+06</td>\n",
       "      <td>7.821859e+01</td>\n",
       "      <td>1.784242e+02</td>\n",
       "    </tr>\n",
       "  </tbody>\n",
       "</table>\n",
       "</div>"
      ],
      "text/plain": [
       "                 id       user_id      venue_id      latitude     longitude\n",
       "count  1.021966e+06  1.021966e+06  1.021966e+06  1.021966e+06  1.021966e+06\n",
       "mean   5.109985e+05  1.227084e+06  1.502672e+05  1.439770e+01 -3.351477e+01\n",
       "std    2.950163e+05  6.638054e+05  2.440088e+05  1.888728e+01  4.827883e+01\n",
       "min    1.600000e+01  1.000000e+00  1.000000e+00 -7.525097e+01 -1.596708e+02\n",
       "25%    2.555072e+05  6.097910e+05  9.310000e+03  0.000000e+00 -7.786000e+01\n",
       "50%    5.109985e+05  1.380121e+06  3.216300e+04  0.000000e+00  0.000000e+00\n",
       "75%    7.664898e+05  1.775918e+06  1.732980e+05  3.611465e+01  0.000000e+00\n",
       "max    1.021981e+06  2.153502e+06  1.143020e+06  7.821859e+01  1.784242e+02"
      ]
     },
     "execution_count": 19,
     "metadata": {},
     "output_type": "execute_result"
    }
   ],
   "source": [
    "checkins_dataset.describe()"
   ]
  },
  {
   "cell_type": "code",
   "execution_count": 21,
   "metadata": {},
   "outputs": [],
   "source": [
    "checkins_dataset_dropzero = checkins_dataset.drop(checkins_dataset[(checkins_dataset['latitude']==0) | (checkins_dataset['longitude']==0)].index)"
   ]
  },
  {
   "cell_type": "code",
   "execution_count": 23,
   "metadata": {},
   "outputs": [
    {
     "data": {
      "text/html": [
       "<div>\n",
       "<style scoped>\n",
       "    .dataframe tbody tr th:only-of-type {\n",
       "        vertical-align: middle;\n",
       "    }\n",
       "\n",
       "    .dataframe tbody tr th {\n",
       "        vertical-align: top;\n",
       "    }\n",
       "\n",
       "    .dataframe thead th {\n",
       "        text-align: right;\n",
       "    }\n",
       "</style>\n",
       "<table border=\"1\" class=\"dataframe\">\n",
       "  <thead>\n",
       "    <tr style=\"text-align: right;\">\n",
       "      <th></th>\n",
       "      <th>id</th>\n",
       "      <th>user_id</th>\n",
       "      <th>venue_id</th>\n",
       "      <th>latitude</th>\n",
       "      <th>longitude</th>\n",
       "    </tr>\n",
       "  </thead>\n",
       "  <tbody>\n",
       "    <tr>\n",
       "      <th>count</th>\n",
       "      <td>3.966340e+05</td>\n",
       "      <td>3.966340e+05</td>\n",
       "      <td>3.966340e+05</td>\n",
       "      <td>396634.000000</td>\n",
       "      <td>396634.000000</td>\n",
       "    </tr>\n",
       "    <tr>\n",
       "      <th>mean</th>\n",
       "      <td>5.104711e+05</td>\n",
       "      <td>5.641349e+05</td>\n",
       "      <td>1.327559e+05</td>\n",
       "      <td>37.097070</td>\n",
       "      <td>-86.354065</td>\n",
       "    </tr>\n",
       "    <tr>\n",
       "      <th>std</th>\n",
       "      <td>3.054927e+05</td>\n",
       "      <td>4.865694e+05</td>\n",
       "      <td>2.287003e+05</td>\n",
       "      <td>8.778760</td>\n",
       "      <td>37.983677</td>\n",
       "    </tr>\n",
       "    <tr>\n",
       "      <th>min</th>\n",
       "      <td>1.600000e+01</td>\n",
       "      <td>1.000000e+00</td>\n",
       "      <td>1.000000e+00</td>\n",
       "      <td>-75.250973</td>\n",
       "      <td>-159.670833</td>\n",
       "    </tr>\n",
       "    <tr>\n",
       "      <th>25%</th>\n",
       "      <td>2.422792e+05</td>\n",
       "      <td>1.692900e+05</td>\n",
       "      <td>7.620000e+03</td>\n",
       "      <td>33.800745</td>\n",
       "      <td>-111.926052</td>\n",
       "    </tr>\n",
       "    <tr>\n",
       "      <th>50%</th>\n",
       "      <td>5.019875e+05</td>\n",
       "      <td>4.298200e+05</td>\n",
       "      <td>2.830400e+04</td>\n",
       "      <td>39.099275</td>\n",
       "      <td>-85.758456</td>\n",
       "    </tr>\n",
       "    <tr>\n",
       "      <th>75%</th>\n",
       "      <td>7.758175e+05</td>\n",
       "      <td>8.496470e+05</td>\n",
       "      <td>1.485520e+05</td>\n",
       "      <td>40.802071</td>\n",
       "      <td>-74.056530</td>\n",
       "    </tr>\n",
       "    <tr>\n",
       "      <th>max</th>\n",
       "      <td>1.021981e+06</td>\n",
       "      <td>2.153361e+06</td>\n",
       "      <td>1.143011e+06</td>\n",
       "      <td>78.218590</td>\n",
       "      <td>178.424240</td>\n",
       "    </tr>\n",
       "  </tbody>\n",
       "</table>\n",
       "</div>"
      ],
      "text/plain": [
       "                 id       user_id      venue_id       latitude      longitude\n",
       "count  3.966340e+05  3.966340e+05  3.966340e+05  396634.000000  396634.000000\n",
       "mean   5.104711e+05  5.641349e+05  1.327559e+05      37.097070     -86.354065\n",
       "std    3.054927e+05  4.865694e+05  2.287003e+05       8.778760      37.983677\n",
       "min    1.600000e+01  1.000000e+00  1.000000e+00     -75.250973    -159.670833\n",
       "25%    2.422792e+05  1.692900e+05  7.620000e+03      33.800745    -111.926052\n",
       "50%    5.019875e+05  4.298200e+05  2.830400e+04      39.099275     -85.758456\n",
       "75%    7.758175e+05  8.496470e+05  1.485520e+05      40.802071     -74.056530\n",
       "max    1.021981e+06  2.153361e+06  1.143011e+06      78.218590     178.424240"
      ]
     },
     "execution_count": 23,
     "metadata": {},
     "output_type": "execute_result"
    }
   ],
   "source": [
    "checkins_dataset_dropzero.describe()"
   ]
  },
  {
   "cell_type": "code",
   "execution_count": 24,
   "metadata": {},
   "outputs": [
    {
     "data": {
      "text/html": [
       "<div>\n",
       "<style scoped>\n",
       "    .dataframe tbody tr th:only-of-type {\n",
       "        vertical-align: middle;\n",
       "    }\n",
       "\n",
       "    .dataframe tbody tr th {\n",
       "        vertical-align: top;\n",
       "    }\n",
       "\n",
       "    .dataframe thead th {\n",
       "        text-align: right;\n",
       "    }\n",
       "</style>\n",
       "<table border=\"1\" class=\"dataframe\">\n",
       "  <thead>\n",
       "    <tr style=\"text-align: right;\">\n",
       "      <th></th>\n",
       "      <th>id</th>\n",
       "      <th>user_id</th>\n",
       "      <th>venue_id</th>\n",
       "      <th>latitude</th>\n",
       "      <th>longitude</th>\n",
       "      <th>created_at</th>\n",
       "    </tr>\n",
       "  </thead>\n",
       "  <tbody>\n",
       "    <tr>\n",
       "      <th>1</th>\n",
       "      <td>984222</td>\n",
       "      <td>15824</td>\n",
       "      <td>5222</td>\n",
       "      <td>38.895112</td>\n",
       "      <td>-77.036366</td>\n",
       "      <td>2012-04-21 17:43:47</td>\n",
       "    </tr>\n",
       "    <tr>\n",
       "      <th>3</th>\n",
       "      <td>984234</td>\n",
       "      <td>44652</td>\n",
       "      <td>5222</td>\n",
       "      <td>33.800745</td>\n",
       "      <td>-84.410520</td>\n",
       "      <td>2012-04-21 17:43:43</td>\n",
       "    </tr>\n",
       "    <tr>\n",
       "      <th>7</th>\n",
       "      <td>984291</td>\n",
       "      <td>105054</td>\n",
       "      <td>5222</td>\n",
       "      <td>45.523452</td>\n",
       "      <td>-122.676207</td>\n",
       "      <td>2012-04-21 17:39:22</td>\n",
       "    </tr>\n",
       "    <tr>\n",
       "      <th>9</th>\n",
       "      <td>984318</td>\n",
       "      <td>2146539</td>\n",
       "      <td>5222</td>\n",
       "      <td>40.764462</td>\n",
       "      <td>-111.904565</td>\n",
       "      <td>2012-04-21 17:35:46</td>\n",
       "    </tr>\n",
       "    <tr>\n",
       "      <th>10</th>\n",
       "      <td>984232</td>\n",
       "      <td>93870</td>\n",
       "      <td>380645</td>\n",
       "      <td>33.448377</td>\n",
       "      <td>-112.074037</td>\n",
       "      <td>2012-04-21 17:38:18</td>\n",
       "    </tr>\n",
       "  </tbody>\n",
       "</table>\n",
       "</div>"
      ],
      "text/plain": [
       "        id  user_id  venue_id   latitude   longitude          created_at\n",
       "1   984222    15824      5222  38.895112  -77.036366 2012-04-21 17:43:47\n",
       "3   984234    44652      5222  33.800745  -84.410520 2012-04-21 17:43:43\n",
       "7   984291   105054      5222  45.523452 -122.676207 2012-04-21 17:39:22\n",
       "9   984318  2146539      5222  40.764462 -111.904565 2012-04-21 17:35:46\n",
       "10  984232    93870    380645  33.448377 -112.074037 2012-04-21 17:38:18"
      ]
     },
     "execution_count": 24,
     "metadata": {},
     "output_type": "execute_result"
    }
   ],
   "source": [
    "checkins_dataset_dropzero.head(5)"
   ]
  },
  {
   "cell_type": "code",
   "execution_count": 14,
   "metadata": {},
   "outputs": [
    {
     "data": {
      "text/html": [
       "<div>\n",
       "<style scoped>\n",
       "    .dataframe tbody tr th:only-of-type {\n",
       "        vertical-align: middle;\n",
       "    }\n",
       "\n",
       "    .dataframe tbody tr th {\n",
       "        vertical-align: top;\n",
       "    }\n",
       "\n",
       "    .dataframe thead th {\n",
       "        text-align: right;\n",
       "    }\n",
       "</style>\n",
       "<table border=\"1\" class=\"dataframe\">\n",
       "  <thead>\n",
       "    <tr style=\"text-align: right;\">\n",
       "      <th></th>\n",
       "      <th>id</th>\n",
       "      <th>user_id</th>\n",
       "      <th>venue_id</th>\n",
       "      <th>latitude</th>\n",
       "      <th>longitude</th>\n",
       "      <th>created_at</th>\n",
       "    </tr>\n",
       "  </thead>\n",
       "  <tbody>\n",
       "    <tr>\n",
       "      <th>0</th>\n",
       "      <td>984301</td>\n",
       "      <td>2041916</td>\n",
       "      <td>5222</td>\n",
       "      <td>0</td>\n",
       "      <td>0</td>\n",
       "      <td>2012-04-21 17:39:01</td>\n",
       "    </tr>\n",
       "  </tbody>\n",
       "</table>\n",
       "</div>"
      ],
      "text/plain": [
       "       id  user_id  venue_id latitude longitude            created_at\n",
       "0  984301  2041916      5222        0         0   2012-04-21 17:39:01"
      ]
     },
     "execution_count": 14,
     "metadata": {},
     "output_type": "execute_result"
    }
   ],
   "source": [
    "checkins_dataset[checkins_dataset['id']==984301]"
   ]
  }
 ],
 "metadata": {
  "interpreter": {
   "hash": "d94ea807e9dd88dec85d6135010093db08445b4f78f2386ac1d177de969ce657"
  },
  "kernelspec": {
   "display_name": "Python 3.7.9 64-bit",
   "language": "python",
   "name": "python3"
  },
  "language_info": {
   "codemirror_mode": {
    "name": "ipython",
    "version": 3
   },
   "file_extension": ".py",
   "mimetype": "text/x-python",
   "name": "python",
   "nbconvert_exporter": "python",
   "pygments_lexer": "ipython3",
   "version": "3.7.9"
  },
  "orig_nbformat": 4
 },
 "nbformat": 4,
 "nbformat_minor": 2
}
