{
 "cells": [
  {
   "cell_type": "code",
   "execution_count": 2,
   "metadata": {},
   "outputs": [
    {
     "name": "stdout",
     "output_type": "stream",
     "text": [
      "0\n",
      "3\n",
      "6\n",
      "9\n"
     ]
    }
   ],
   "source": [
    "for i in range(0, 10, 3):\n",
    "    print(i)"
   ]
  },
  {
   "cell_type": "code",
   "execution_count": 11,
   "metadata": {},
   "outputs": [
    {
     "name": "stdout",
     "output_type": "stream",
     "text": [
      "[0, 1, 2, 3, 4, 5, 6, 7, 8, 9]\n",
      "None\n",
      "[4, 8, 6, 5, 9, 1, 2, 3, 0, 7]\n"
     ]
    }
   ],
   "source": [
    "indices = list(range(10))\n",
    "print(indices)\n",
    "\n",
    "import random\n",
    "print(random.shuffle(indices))\n",
    "print(indices)"
   ]
  },
  {
   "cell_type": "code",
   "execution_count": 13,
   "metadata": {},
   "outputs": [
    {
     "name": "stdout",
     "output_type": "stream",
     "text": [
      "tf.Tensor([4 8 6], shape=(3,), dtype=int32)\n",
      "tf.Tensor([5 9 1], shape=(3,), dtype=int32)\n",
      "tf.Tensor([2 3 0], shape=(3,), dtype=int32)\n",
      "tf.Tensor([7], shape=(1,), dtype=int32)\n"
     ]
    }
   ],
   "source": [
    "import tensorflow as tf\n",
    "for i in range(0, 10, 3):\n",
    "    x = tf.constant(indices[i: min(i + 3, 15)])\n",
    "    print(x)"
   ]
  },
  {
   "cell_type": "code",
   "execution_count": 4,
   "metadata": {},
   "outputs": [
    {
     "name": "stdout",
     "output_type": "stream",
     "text": [
      "(5, 20)\n",
      "[[1.00000000e+00 1.00000000e+00 1.00000000e+00 1.00000000e+00\n",
      "  1.00000000e+00 1.00000000e+00 1.00000000e+00 1.00000000e+00\n",
      "  1.00000000e+00 1.00000000e+00 1.00000000e+00 1.00000000e+00\n",
      "  1.00000000e+00 1.00000000e+00 1.00000000e+00 1.00000000e+00\n",
      "  1.00000000e+00 1.00000000e+00 1.00000000e+00 1.00000000e+00]\n",
      " [2.00000000e+00 4.00000000e+00 8.00000000e+00 1.60000000e+01\n",
      "  3.20000000e+01 6.40000000e+01 1.28000000e+02 2.56000000e+02\n",
      "  5.12000000e+02 1.02400000e+03 2.04800000e+03 4.09600000e+03\n",
      "  8.19200000e+03 1.63840000e+04 3.27680000e+04 6.55360000e+04\n",
      "  1.31072000e+05 2.62144000e+05 5.24288000e+05 1.04857600e+06]\n",
      " [3.00000000e+00 9.00000000e+00 2.70000000e+01 8.10000000e+01\n",
      "  2.43000000e+02 7.29000000e+02 2.18700000e+03 6.56100000e+03\n",
      "  1.96830000e+04 5.90490000e+04 1.77147000e+05 5.31441000e+05\n",
      "  1.59432300e+06 4.78296900e+06 1.43489070e+07 4.30467210e+07\n",
      "  1.29140163e+08 3.87420489e+08 1.16226147e+09 3.48678440e+09]\n",
      " [4.00000000e+00 1.60000000e+01 6.40000000e+01 2.56000000e+02\n",
      "  1.02400000e+03 4.09600000e+03 1.63840000e+04 6.55360000e+04\n",
      "  2.62144000e+05 1.04857600e+06 4.19430400e+06 1.67772160e+07\n",
      "  6.71088640e+07 2.68435456e+08 1.07374182e+09 4.29496730e+09\n",
      "  1.71798692e+10 6.87194767e+10 2.74877907e+11 1.09951163e+12]\n",
      " [5.00000000e+00 2.50000000e+01 1.25000000e+02 6.25000000e+02\n",
      "  3.12500000e+03 1.56250000e+04 7.81250000e+04 3.90625000e+05\n",
      "  1.95312500e+06 9.76562500e+06 4.88281250e+07 2.44140625e+08\n",
      "  1.22070312e+09 6.10351562e+09 3.05175781e+10 1.52587891e+11\n",
      "  7.62939453e+11 3.81469727e+12 1.90734863e+13 9.53674316e+13]]\n"
     ]
    }
   ],
   "source": [
    "from sklearn.preprocessing import PolynomialFeatures\n",
    "import numpy as np\n",
    "X = [1,2,3,4,5]\n",
    "X = np.array(X)\n",
    "X =  X.reshape(-1, 1)\n",
    "#向数据集添加多项式特征\n",
    "poly = PolynomialFeatures(degree=20,include_bias = False)\n",
    "X_poly = poly.fit_transform(X)\n",
    "#打印结果\n",
    "print(X_poly.shape)\n",
    "print(X_poly)\n",
    "\n"
   ]
  }
 ],
 "metadata": {
  "interpreter": {
   "hash": "caf831573a0ff294614842876d2763885d6da16fb80bd95fae4076843946dd1d"
  },
  "kernelspec": {
   "display_name": "Python 3.7.9 64-bit",
   "language": "python",
   "name": "python3"
  },
  "language_info": {
   "codemirror_mode": {
    "name": "ipython",
    "version": 3
   },
   "file_extension": ".py",
   "mimetype": "text/x-python",
   "name": "python",
   "nbconvert_exporter": "python",
   "pygments_lexer": "ipython3",
   "version": "3.7.9"
  },
  "orig_nbformat": 4
 },
 "nbformat": 4,
 "nbformat_minor": 2
}
